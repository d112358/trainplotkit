{
 "cells": [
  {
   "cell_type": "markdown",
   "metadata": {},
   "source": [
    "## Description\n",
    "In the first three notebooks (up until [03_architecture.ipynb](./03_architecture.ipynb)), development was performed directly in the notebook, without importing anything from the modules in the `trainplotkit` directory (with the exception of \"layout.py\").\n",
    "\n",
    "The code developed in these three notebooks were subsequently copied to these modules and further developed inside the modules using the notebooks from [04_using_custom_training_loop.ipynb](./04_using_custom_training_loop.ipynb) onwards as execution entry points.\n",
    "\n",
    "Notebooks from [04_using_custom_training_loop.ipynb](./04_using_custom_training_loop.ipynb) onwards import modules from the `trainplotkit` directory. The notebooks and modules are developed in parallel and each notebook contains a `reload_imports` function, which is executed after any change to the imported modules. This allows the following conveniences:\n",
    "* Earlier cells in the notebook that may have performed large tasks such as data preparation or model training do not need to be re-run for module changes to take effect\n",
    "* There is only one copy of the implementation that needs to be maintained\n",
    "* Code in the `trainplotkit` directory is easily debugged in the VSCode environment: just place a break-point in either the notebook or the module and hit Ctrl+Shift+Alt+Enter in the notebook cell to execute.\n",
    "* This debugging approach also provides the full functionality of VSCode's Python Debugger, including the call stack and custom expression evaluation at break-points\n"
   ]
  },
  {
   "cell_type": "markdown",
   "metadata": {},
   "source": [
    "## Demonstration\n",
    "* TODO: CONTINUE HERE"
   ]
  }
 ],
 "metadata": {
  "language_info": {
   "name": "python"
  }
 },
 "nbformat": 4,
 "nbformat_minor": 2
}
