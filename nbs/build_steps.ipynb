{
 "cells": [
  {
   "cell_type": "markdown",
   "metadata": {},
   "source": [
    "## Preparation (first release only)\n",
    "Write [pyproject.toml](../pyproject.toml) and [setup.py](../setup.py)"
   ]
  },
  {
   "cell_type": "markdown",
   "metadata": {},
   "source": [
    "## Build"
   ]
  },
  {
   "cell_type": "markdown",
   "metadata": {},
   "source": [
    "* Ensure that this notebook's kernel is running in the main virtual environment (.venv)\n",
    "* Restart the kernel if changed\n",
    "* Step the version number in [\\_\\_init\\_\\_.py](../trainplotkit/__init__.py) \n",
    "* Update [CHANGELOG.md](../CHANGELOG.md) (see example at [Keep a Changelog](https://keepachangelog.com/en/1.0.0/)) "
   ]
  },
  {
   "cell_type": "code",
   "execution_count": null,
   "metadata": {},
   "outputs": [],
   "source": [
    "%pip install --upgrade build"
   ]
  },
  {
   "cell_type": "code",
   "execution_count": 1,
   "metadata": {},
   "outputs": [
    {
     "name": "stdout",
     "output_type": "stream",
     "text": [
      "/home/dev/ai/trainplotkit\n"
     ]
    },
    {
     "name": "stderr",
     "output_type": "stream",
     "text": [
      "/home/dev/ai/trainplotkit/.venv/lib/python3.10/site-packages/IPython/core/magics/osm.py:417: UserWarning: This is now an optional IPython functionality, setting dhist requires you to install the `pickleshare` library.\n",
      "  self.shell.db['dhist'] = compress_dhist(dhist)[-100:]\n"
     ]
    },
    {
     "data": {
      "text/plain": [
       "'/home/dev/ai/trainplotkit'"
      ]
     },
     "execution_count": 1,
     "metadata": {},
     "output_type": "execute_result"
    }
   ],
   "source": [
    "from pathlib import Path\n",
    "if Path.cwd().name != 'trainplotkit':\n",
    "    %cd ..\n",
    "%pwd"
   ]
  },
  {
   "cell_type": "code",
   "execution_count": 2,
   "metadata": {},
   "outputs": [],
   "source": [
    "!rm -rf dist"
   ]
  },
  {
   "cell_type": "code",
   "execution_count": 3,
   "metadata": {},
   "outputs": [
    {
     "name": "stdout",
     "output_type": "stream",
     "text": [
      "\u001b[1m* Creating isolated environment: venv+pip...\u001b[0m\n",
      "\u001b[1m* Installing packages in isolated environment:\u001b[0m\n",
      "  - setuptools >= 64.0\n",
      "\u001b[1m* Getting build dependencies for sdist...\u001b[0m\n",
      "running egg_info\n",
      "writing trainplotkit.egg-info/PKG-INFO\n",
      "writing dependency_links to trainplotkit.egg-info/dependency_links.txt\n",
      "writing requirements to trainplotkit.egg-info/requires.txt\n",
      "writing top-level names to trainplotkit.egg-info/top_level.txt\n",
      "reading manifest file 'trainplotkit.egg-info/SOURCES.txt'\n",
      "adding license file 'LICENSE'\n",
      "writing manifest file 'trainplotkit.egg-info/SOURCES.txt'\n",
      "\u001b[1m* Building sdist...\u001b[0m\n",
      "running sdist\n",
      "running egg_info\n",
      "writing trainplotkit.egg-info/PKG-INFO\n",
      "writing dependency_links to trainplotkit.egg-info/dependency_links.txt\n",
      "writing requirements to trainplotkit.egg-info/requires.txt\n",
      "writing top-level names to trainplotkit.egg-info/top_level.txt\n",
      "reading manifest file 'trainplotkit.egg-info/SOURCES.txt'\n",
      "adding license file 'LICENSE'\n",
      "writing manifest file 'trainplotkit.egg-info/SOURCES.txt'\n",
      "running check\n",
      "creating trainplotkit-0.1.0\n",
      "creating trainplotkit-0.1.0/trainplotkit\n",
      "creating trainplotkit-0.1.0/trainplotkit.egg-info\n",
      "creating trainplotkit-0.1.0/trainplotkit/subplots\n",
      "copying files to trainplotkit-0.1.0...\n",
      "copying LICENSE -> trainplotkit-0.1.0\n",
      "copying README.md -> trainplotkit-0.1.0\n",
      "copying pyproject.toml -> trainplotkit-0.1.0\n",
      "copying setup.py -> trainplotkit-0.1.0\n",
      "copying trainplotkit/__init__.py -> trainplotkit-0.1.0/trainplotkit\n",
      "copying trainplotkit/layout.py -> trainplotkit-0.1.0/trainplotkit\n",
      "copying trainplotkit/plotgrid.py -> trainplotkit-0.1.0/trainplotkit\n",
      "copying trainplotkit/sanity_check.py -> trainplotkit-0.1.0/trainplotkit\n",
      "copying trainplotkit/utils.py -> trainplotkit-0.1.0/trainplotkit\n",
      "copying trainplotkit.egg-info/PKG-INFO -> trainplotkit-0.1.0/trainplotkit.egg-info\n",
      "copying trainplotkit.egg-info/SOURCES.txt -> trainplotkit-0.1.0/trainplotkit.egg-info\n",
      "copying trainplotkit.egg-info/dependency_links.txt -> trainplotkit-0.1.0/trainplotkit.egg-info\n",
      "copying trainplotkit.egg-info/requires.txt -> trainplotkit-0.1.0/trainplotkit.egg-info\n",
      "copying trainplotkit.egg-info/top_level.txt -> trainplotkit-0.1.0/trainplotkit.egg-info\n",
      "copying trainplotkit/subplots/basic.py -> trainplotkit-0.1.0/trainplotkit/subplots\n",
      "copying trainplotkit.egg-info/SOURCES.txt -> trainplotkit-0.1.0/trainplotkit.egg-info\n",
      "Writing trainplotkit-0.1.0/setup.cfg\n",
      "Creating tar archive\n",
      "removing 'trainplotkit-0.1.0' (and everything under it)\n",
      "\u001b[1m* Building wheel from sdist\u001b[0m\n",
      "\u001b[1m* Creating isolated environment: venv+pip...\u001b[0m\n",
      "\u001b[1m* Installing packages in isolated environment:\u001b[0m\n",
      "  - setuptools >= 64.0\n",
      "\u001b[1m* Getting build dependencies for wheel...\u001b[0m\n",
      "running egg_info\n",
      "writing trainplotkit.egg-info/PKG-INFO\n",
      "writing dependency_links to trainplotkit.egg-info/dependency_links.txt\n",
      "writing requirements to trainplotkit.egg-info/requires.txt\n",
      "writing top-level names to trainplotkit.egg-info/top_level.txt\n",
      "reading manifest file 'trainplotkit.egg-info/SOURCES.txt'\n",
      "adding license file 'LICENSE'\n",
      "writing manifest file 'trainplotkit.egg-info/SOURCES.txt'\n",
      "\u001b[1m* Building wheel...\u001b[0m\n",
      "running bdist_wheel\n",
      "running build\n",
      "running build_py\n",
      "creating build/lib/trainplotkit\n",
      "copying trainplotkit/utils.py -> build/lib/trainplotkit\n",
      "copying trainplotkit/plotgrid.py -> build/lib/trainplotkit\n",
      "copying trainplotkit/sanity_check.py -> build/lib/trainplotkit\n",
      "copying trainplotkit/__init__.py -> build/lib/trainplotkit\n",
      "copying trainplotkit/layout.py -> build/lib/trainplotkit\n",
      "creating build/lib/trainplotkit/subplots\n",
      "copying trainplotkit/subplots/basic.py -> build/lib/trainplotkit/subplots\n",
      "running egg_info\n",
      "writing trainplotkit.egg-info/PKG-INFO\n",
      "writing dependency_links to trainplotkit.egg-info/dependency_links.txt\n",
      "writing requirements to trainplotkit.egg-info/requires.txt\n",
      "writing top-level names to trainplotkit.egg-info/top_level.txt\n",
      "reading manifest file 'trainplotkit.egg-info/SOURCES.txt'\n",
      "adding license file 'LICENSE'\n",
      "writing manifest file 'trainplotkit.egg-info/SOURCES.txt'\n",
      "installing to build/bdist.linux-x86_64/wheel\n",
      "running install\n",
      "running install_lib\n",
      "creating build/bdist.linux-x86_64/wheel\n",
      "creating build/bdist.linux-x86_64/wheel/trainplotkit\n",
      "copying build/lib/trainplotkit/utils.py -> build/bdist.linux-x86_64/wheel/./trainplotkit\n",
      "copying build/lib/trainplotkit/plotgrid.py -> build/bdist.linux-x86_64/wheel/./trainplotkit\n",
      "copying build/lib/trainplotkit/sanity_check.py -> build/bdist.linux-x86_64/wheel/./trainplotkit\n",
      "copying build/lib/trainplotkit/__init__.py -> build/bdist.linux-x86_64/wheel/./trainplotkit\n",
      "copying build/lib/trainplotkit/layout.py -> build/bdist.linux-x86_64/wheel/./trainplotkit\n",
      "creating build/bdist.linux-x86_64/wheel/trainplotkit/subplots\n",
      "copying build/lib/trainplotkit/subplots/basic.py -> build/bdist.linux-x86_64/wheel/./trainplotkit/subplots\n",
      "running install_egg_info\n",
      "Copying trainplotkit.egg-info to build/bdist.linux-x86_64/wheel/./trainplotkit-0.1.0-py3.10.egg-info\n",
      "running install_scripts\n",
      "creating build/bdist.linux-x86_64/wheel/trainplotkit-0.1.0.dist-info/WHEEL\n",
      "creating '/home/dev/ai/trainplotkit/dist/.tmp-w2i0klyl/trainplotkit-0.1.0-py3-none-any.whl' and adding 'build/bdist.linux-x86_64/wheel' to it\n",
      "adding 'trainplotkit/__init__.py'\n",
      "adding 'trainplotkit/layout.py'\n",
      "adding 'trainplotkit/plotgrid.py'\n",
      "adding 'trainplotkit/sanity_check.py'\n",
      "adding 'trainplotkit/utils.py'\n",
      "adding 'trainplotkit/subplots/basic.py'\n",
      "adding 'trainplotkit-0.1.0.dist-info/LICENSE'\n",
      "adding 'trainplotkit-0.1.0.dist-info/METADATA'\n",
      "adding 'trainplotkit-0.1.0.dist-info/WHEEL'\n",
      "adding 'trainplotkit-0.1.0.dist-info/top_level.txt'\n",
      "adding 'trainplotkit-0.1.0.dist-info/RECORD'\n",
      "removing build/bdist.linux-x86_64/wheel\n",
      "\u001b[1m\u001b[92mSuccessfully built \u001b[4mtrainplotkit-0.1.0.tar.gz\u001b[0m\u001b[1m\u001b[92m and \u001b[4mtrainplotkit-0.1.0-py3-none-any.whl\u001b[0m\u001b[1m\u001b[92m\u001b[0m\n"
     ]
    }
   ],
   "source": [
    "!python -m build"
   ]
  },
  {
   "cell_type": "markdown",
   "metadata": {},
   "source": [
    "### Check what was built"
   ]
  },
  {
   "cell_type": "code",
   "execution_count": 4,
   "metadata": {},
   "outputs": [],
   "source": [
    "Path('build_output').mkdir(exist_ok=True)  # Location to extract the archive to\n",
    "!tar -xf dist/trainplotkit-0.1.0.tar.gz -C build_output"
   ]
  },
  {
   "cell_type": "markdown",
   "metadata": {},
   "source": [
    "### Test in a temporary virtual environment"
   ]
  },
  {
   "cell_type": "markdown",
   "metadata": {},
   "source": [
    "* Ensure that this notebook's kernel is running in the main virtual environment (.venv)\n",
    "* Restart the kernel if changed"
   ]
  },
  {
   "cell_type": "code",
   "execution_count": 5,
   "metadata": {},
   "outputs": [],
   "source": [
    "from pathlib import Path\n",
    "if Path.cwd().name != 'trainplotkit':\n",
    "    %cd ..\n",
    "%pwd\n",
    "\n",
    "!rm -rf .venv_temp\n",
    "!python -m venv .venv_temp"
   ]
  },
  {
   "cell_type": "markdown",
   "metadata": {},
   "source": [
    "* Change this notebook's kernel to run in the temporary virtual environment (.venv_temp)\n",
    "* Restart the kernel"
   ]
  },
  {
   "cell_type": "code",
   "execution_count": null,
   "metadata": {},
   "outputs": [],
   "source": [
    "%pip install torch torchvision torchaudio --index-url https://download.pytorch.org/whl/cu118"
   ]
  },
  {
   "cell_type": "code",
   "execution_count": 2,
   "metadata": {},
   "outputs": [
    {
     "data": {
      "text/plain": [
       "'/home/dev/ai/trainplotkit/nbs'"
      ]
     },
     "execution_count": 2,
     "metadata": {},
     "output_type": "execute_result"
    }
   ],
   "source": [
    "%pwd"
   ]
  },
  {
   "cell_type": "code",
   "execution_count": 3,
   "metadata": {},
   "outputs": [
    {
     "name": "stdout",
     "output_type": "stream",
     "text": [
      "Processing /home/dev/ai/trainplotkit\n",
      "  Installing build dependencies ... \u001b[?25ldone\n",
      "\u001b[?25h  Getting requirements to build wheel ... \u001b[?25ldone\n",
      "\u001b[?25h  Preparing metadata (pyproject.toml) ... \u001b[?25ldone\n",
      "\u001b[?25hRequirement already satisfied: torch>=2.3.0 in /home/dev/ai/trainplotkit/.venv_temp/lib/python3.10/site-packages (from trainplotkit==0.1.0) (2.5.1+cu118)\n",
      "Collecting torcheval\n",
      "  Using cached torcheval-0.0.7-py3-none-any.whl (179 kB)\n",
      "Collecting nbformat\n",
      "  Using cached nbformat-5.10.4-py3-none-any.whl (78 kB)\n",
      "Collecting plotly\n",
      "  Using cached plotly-5.24.1-py3-none-any.whl (19.1 MB)\n",
      "Collecting matplotlib\n",
      "  Using cached matplotlib-3.10.0-cp310-cp310-manylinux_2_17_x86_64.manylinux2014_x86_64.whl (8.6 MB)\n",
      "Collecting ipywidgets\n",
      "  Using cached ipywidgets-8.1.5-py3-none-any.whl (139 kB)\n",
      "Requirement already satisfied: numpy in /home/dev/ai/trainplotkit/.venv_temp/lib/python3.10/site-packages (from trainplotkit==0.1.0) (1.26.3)\n",
      "Requirement already satisfied: nvidia-curand-cu11==10.3.0.86 in /home/dev/ai/trainplotkit/.venv_temp/lib/python3.10/site-packages (from torch>=2.3.0->trainplotkit==0.1.0) (10.3.0.86)\n",
      "Requirement already satisfied: nvidia-nccl-cu11==2.21.5 in /home/dev/ai/trainplotkit/.venv_temp/lib/python3.10/site-packages (from torch>=2.3.0->trainplotkit==0.1.0) (2.21.5)\n",
      "Requirement already satisfied: nvidia-cublas-cu11==11.11.3.6 in /home/dev/ai/trainplotkit/.venv_temp/lib/python3.10/site-packages (from torch>=2.3.0->trainplotkit==0.1.0) (11.11.3.6)\n",
      "Requirement already satisfied: networkx in /home/dev/ai/trainplotkit/.venv_temp/lib/python3.10/site-packages (from torch>=2.3.0->trainplotkit==0.1.0) (3.2.1)\n",
      "Requirement already satisfied: nvidia-cudnn-cu11==9.1.0.70 in /home/dev/ai/trainplotkit/.venv_temp/lib/python3.10/site-packages (from torch>=2.3.0->trainplotkit==0.1.0) (9.1.0.70)\n",
      "Requirement already satisfied: nvidia-cufft-cu11==10.9.0.58 in /home/dev/ai/trainplotkit/.venv_temp/lib/python3.10/site-packages (from torch>=2.3.0->trainplotkit==0.1.0) (10.9.0.58)\n",
      "Requirement already satisfied: nvidia-cusparse-cu11==11.7.5.86 in /home/dev/ai/trainplotkit/.venv_temp/lib/python3.10/site-packages (from torch>=2.3.0->trainplotkit==0.1.0) (11.7.5.86)\n",
      "Requirement already satisfied: typing-extensions>=4.8.0 in /home/dev/ai/trainplotkit/.venv_temp/lib/python3.10/site-packages (from torch>=2.3.0->trainplotkit==0.1.0) (4.12.2)\n",
      "Requirement already satisfied: nvidia-cuda-nvrtc-cu11==11.8.89 in /home/dev/ai/trainplotkit/.venv_temp/lib/python3.10/site-packages (from torch>=2.3.0->trainplotkit==0.1.0) (11.8.89)\n",
      "Requirement already satisfied: nvidia-nvtx-cu11==11.8.86 in /home/dev/ai/trainplotkit/.venv_temp/lib/python3.10/site-packages (from torch>=2.3.0->trainplotkit==0.1.0) (11.8.86)\n",
      "Requirement already satisfied: triton==3.1.0 in /home/dev/ai/trainplotkit/.venv_temp/lib/python3.10/site-packages (from torch>=2.3.0->trainplotkit==0.1.0) (3.1.0)\n",
      "Requirement already satisfied: nvidia-cuda-runtime-cu11==11.8.89 in /home/dev/ai/trainplotkit/.venv_temp/lib/python3.10/site-packages (from torch>=2.3.0->trainplotkit==0.1.0) (11.8.89)\n",
      "Requirement already satisfied: sympy==1.13.1 in /home/dev/ai/trainplotkit/.venv_temp/lib/python3.10/site-packages (from torch>=2.3.0->trainplotkit==0.1.0) (1.13.1)\n",
      "Requirement already satisfied: nvidia-cusolver-cu11==11.4.1.48 in /home/dev/ai/trainplotkit/.venv_temp/lib/python3.10/site-packages (from torch>=2.3.0->trainplotkit==0.1.0) (11.4.1.48)\n",
      "Requirement already satisfied: nvidia-cuda-cupti-cu11==11.8.87 in /home/dev/ai/trainplotkit/.venv_temp/lib/python3.10/site-packages (from torch>=2.3.0->trainplotkit==0.1.0) (11.8.87)\n",
      "Requirement already satisfied: filelock in /home/dev/ai/trainplotkit/.venv_temp/lib/python3.10/site-packages (from torch>=2.3.0->trainplotkit==0.1.0) (3.13.1)\n",
      "Requirement already satisfied: fsspec in /home/dev/ai/trainplotkit/.venv_temp/lib/python3.10/site-packages (from torch>=2.3.0->trainplotkit==0.1.0) (2024.2.0)\n",
      "Requirement already satisfied: jinja2 in /home/dev/ai/trainplotkit/.venv_temp/lib/python3.10/site-packages (from torch>=2.3.0->trainplotkit==0.1.0) (3.1.3)\n",
      "Requirement already satisfied: mpmath<1.4,>=1.1.0 in /home/dev/ai/trainplotkit/.venv_temp/lib/python3.10/site-packages (from sympy==1.13.1->torch>=2.3.0->trainplotkit==0.1.0) (1.3.0)\n",
      "Requirement already satisfied: traitlets>=4.3.1 in /home/dev/ai/trainplotkit/.venv_temp/lib/python3.10/site-packages (from ipywidgets->trainplotkit==0.1.0) (5.14.3)\n",
      "Requirement already satisfied: ipython>=6.1.0 in /home/dev/ai/trainplotkit/.venv_temp/lib/python3.10/site-packages (from ipywidgets->trainplotkit==0.1.0) (8.31.0)\n",
      "Requirement already satisfied: comm>=0.1.3 in /home/dev/ai/trainplotkit/.venv_temp/lib/python3.10/site-packages (from ipywidgets->trainplotkit==0.1.0) (0.2.2)\n",
      "Collecting widgetsnbextension~=4.0.12\n",
      "  Using cached widgetsnbextension-4.0.13-py3-none-any.whl (2.3 MB)\n",
      "Collecting jupyterlab-widgets~=3.0.12\n",
      "  Using cached jupyterlab_widgets-3.0.13-py3-none-any.whl (214 kB)\n",
      "Collecting cycler>=0.10\n",
      "  Using cached cycler-0.12.1-py3-none-any.whl (8.3 kB)\n",
      "Collecting fonttools>=4.22.0\n",
      "  Using cached fonttools-4.55.4-cp310-cp310-manylinux_2_17_x86_64.manylinux2014_x86_64.whl (4.6 MB)\n",
      "Collecting contourpy>=1.0.1\n",
      "  Using cached contourpy-1.3.1-cp310-cp310-manylinux_2_17_x86_64.manylinux2014_x86_64.whl (324 kB)\n",
      "Requirement already satisfied: python-dateutil>=2.7 in /home/dev/ai/trainplotkit/.venv_temp/lib/python3.10/site-packages (from matplotlib->trainplotkit==0.1.0) (2.9.0.post0)\n",
      "Collecting pyparsing>=2.3.1\n",
      "  Using cached pyparsing-3.2.1-py3-none-any.whl (107 kB)\n",
      "Collecting kiwisolver>=1.3.1\n",
      "  Using cached kiwisolver-1.4.8-cp310-cp310-manylinux_2_12_x86_64.manylinux2010_x86_64.whl (1.6 MB)\n",
      "Requirement already satisfied: pillow>=8 in /home/dev/ai/trainplotkit/.venv_temp/lib/python3.10/site-packages (from matplotlib->trainplotkit==0.1.0) (10.2.0)\n",
      "Requirement already satisfied: packaging>=20.0 in /home/dev/ai/trainplotkit/.venv_temp/lib/python3.10/site-packages (from matplotlib->trainplotkit==0.1.0) (24.2)\n",
      "Requirement already satisfied: jupyter-core!=5.0.*,>=4.12 in /home/dev/ai/trainplotkit/.venv_temp/lib/python3.10/site-packages (from nbformat->trainplotkit==0.1.0) (5.7.2)\n",
      "Collecting jsonschema>=2.6\n",
      "  Using cached jsonschema-4.23.0-py3-none-any.whl (88 kB)\n",
      "Collecting fastjsonschema>=2.15\n",
      "  Using cached fastjsonschema-2.21.1-py3-none-any.whl (23 kB)\n",
      "Collecting tenacity>=6.2.0\n",
      "  Using cached tenacity-9.0.0-py3-none-any.whl (28 kB)\n",
      "Requirement already satisfied: decorator in /home/dev/ai/trainplotkit/.venv_temp/lib/python3.10/site-packages (from ipython>=6.1.0->ipywidgets->trainplotkit==0.1.0) (5.1.1)\n",
      "Requirement already satisfied: stack_data in /home/dev/ai/trainplotkit/.venv_temp/lib/python3.10/site-packages (from ipython>=6.1.0->ipywidgets->trainplotkit==0.1.0) (0.6.3)\n",
      "Requirement already satisfied: jedi>=0.16 in /home/dev/ai/trainplotkit/.venv_temp/lib/python3.10/site-packages (from ipython>=6.1.0->ipywidgets->trainplotkit==0.1.0) (0.19.2)\n",
      "Requirement already satisfied: pygments>=2.4.0 in /home/dev/ai/trainplotkit/.venv_temp/lib/python3.10/site-packages (from ipython>=6.1.0->ipywidgets->trainplotkit==0.1.0) (2.19.1)\n",
      "Requirement already satisfied: matplotlib-inline in /home/dev/ai/trainplotkit/.venv_temp/lib/python3.10/site-packages (from ipython>=6.1.0->ipywidgets->trainplotkit==0.1.0) (0.1.7)\n",
      "Requirement already satisfied: exceptiongroup in /home/dev/ai/trainplotkit/.venv_temp/lib/python3.10/site-packages (from ipython>=6.1.0->ipywidgets->trainplotkit==0.1.0) (1.2.2)\n",
      "Requirement already satisfied: prompt_toolkit<3.1.0,>=3.0.41 in /home/dev/ai/trainplotkit/.venv_temp/lib/python3.10/site-packages (from ipython>=6.1.0->ipywidgets->trainplotkit==0.1.0) (3.0.50)\n",
      "Requirement already satisfied: pexpect>4.3 in /home/dev/ai/trainplotkit/.venv_temp/lib/python3.10/site-packages (from ipython>=6.1.0->ipywidgets->trainplotkit==0.1.0) (4.9.0)\n",
      "Collecting rpds-py>=0.7.1\n",
      "  Using cached rpds_py-0.22.3-cp310-cp310-manylinux_2_17_x86_64.manylinux2014_x86_64.whl (381 kB)\n",
      "Collecting referencing>=0.28.4\n",
      "  Using cached referencing-0.36.1-py3-none-any.whl (26 kB)\n",
      "Collecting attrs>=22.2.0\n",
      "  Using cached attrs-24.3.0-py3-none-any.whl (63 kB)\n",
      "Collecting jsonschema-specifications>=2023.03.6\n",
      "  Using cached jsonschema_specifications-2024.10.1-py3-none-any.whl (18 kB)\n",
      "Requirement already satisfied: platformdirs>=2.5 in /home/dev/ai/trainplotkit/.venv_temp/lib/python3.10/site-packages (from jupyter-core!=5.0.*,>=4.12->nbformat->trainplotkit==0.1.0) (4.3.6)\n",
      "Requirement already satisfied: six>=1.5 in /home/dev/ai/trainplotkit/.venv_temp/lib/python3.10/site-packages (from python-dateutil>=2.7->matplotlib->trainplotkit==0.1.0) (1.17.0)\n",
      "Requirement already satisfied: MarkupSafe>=2.0 in /home/dev/ai/trainplotkit/.venv_temp/lib/python3.10/site-packages (from jinja2->torch>=2.3.0->trainplotkit==0.1.0) (2.1.5)\n",
      "Requirement already satisfied: parso<0.9.0,>=0.8.4 in /home/dev/ai/trainplotkit/.venv_temp/lib/python3.10/site-packages (from jedi>=0.16->ipython>=6.1.0->ipywidgets->trainplotkit==0.1.0) (0.8.4)\n",
      "Requirement already satisfied: ptyprocess>=0.5 in /home/dev/ai/trainplotkit/.venv_temp/lib/python3.10/site-packages (from pexpect>4.3->ipython>=6.1.0->ipywidgets->trainplotkit==0.1.0) (0.7.0)\n",
      "Requirement already satisfied: wcwidth in /home/dev/ai/trainplotkit/.venv_temp/lib/python3.10/site-packages (from prompt_toolkit<3.1.0,>=3.0.41->ipython>=6.1.0->ipywidgets->trainplotkit==0.1.0) (0.2.13)\n",
      "Requirement already satisfied: pure-eval in /home/dev/ai/trainplotkit/.venv_temp/lib/python3.10/site-packages (from stack_data->ipython>=6.1.0->ipywidgets->trainplotkit==0.1.0) (0.2.3)\n",
      "Requirement already satisfied: asttokens>=2.1.0 in /home/dev/ai/trainplotkit/.venv_temp/lib/python3.10/site-packages (from stack_data->ipython>=6.1.0->ipywidgets->trainplotkit==0.1.0) (3.0.0)\n",
      "Requirement already satisfied: executing>=1.2.0 in /home/dev/ai/trainplotkit/.venv_temp/lib/python3.10/site-packages (from stack_data->ipython>=6.1.0->ipywidgets->trainplotkit==0.1.0) (2.1.0)\n",
      "Building wheels for collected packages: trainplotkit\n",
      "  Building wheel for trainplotkit (pyproject.toml) ... \u001b[?25ldone\n",
      "\u001b[?25h  Created wheel for trainplotkit: filename=trainplotkit-0.1.0-py3-none-any.whl size=14139 sha256=1c19cc694426fa97e5bd43b22bedcc2277bd73b63a92819eb62a5bc86c0eef93\n",
      "  Stored in directory: /tmp/pip-ephem-wheel-cache-kmh8grh8/wheels/5a/75/3a/89dbdad7306a9b474d377ca071ef210dd818d7431ff0316020\n",
      "Successfully built trainplotkit\n",
      "Installing collected packages: fastjsonschema, widgetsnbextension, torcheval, tenacity, rpds-py, pyparsing, kiwisolver, jupyterlab-widgets, fonttools, cycler, contourpy, attrs, referencing, plotly, matplotlib, jsonschema-specifications, ipywidgets, jsonschema, nbformat, trainplotkit\n",
      "Successfully installed attrs-24.3.0 contourpy-1.3.1 cycler-0.12.1 fastjsonschema-2.21.1 fonttools-4.55.4 ipywidgets-8.1.5 jsonschema-4.23.0 jsonschema-specifications-2024.10.1 jupyterlab-widgets-3.0.13 kiwisolver-1.4.8 matplotlib-3.10.0 nbformat-5.10.4 plotly-5.24.1 pyparsing-3.2.1 referencing-0.36.1 rpds-py-0.22.3 tenacity-9.0.0 torcheval-0.0.7 trainplotkit-0.1.0 widgetsnbextension-4.0.13\n",
      "Note: you may need to restart the kernel to use updated packages.\n"
     ]
    }
   ],
   "source": [
    "%pip install .."
   ]
  },
  {
   "cell_type": "code",
   "execution_count": 1,
   "metadata": {},
   "outputs": [],
   "source": [
    "# If the widget is not rendered, restart the kernel and/or reload the UI before running this cell\n",
    "from trainplotkit.sanity_check import setup_sanity_check, run_sanity_check\n",
    "train_loader, valid_loader, model, optimizer, criterion, device, pg = setup_sanity_check()\n",
    "pg.show()"
   ]
  },
  {
   "cell_type": "code",
   "execution_count": 2,
   "metadata": {},
   "outputs": [],
   "source": [
    "run_sanity_check(train_loader, valid_loader, model, optimizer, criterion, device, pg)"
   ]
  },
  {
   "cell_type": "markdown",
   "metadata": {},
   "source": [
    "## Install directly from GitHub"
   ]
  },
  {
   "cell_type": "markdown",
   "metadata": {},
   "source": [
    "### Test in a temporary virtual environment"
   ]
  },
  {
   "cell_type": "markdown",
   "metadata": {},
   "source": [
    "* Ensure that this notebook's kernel is running in the main virtual environment (.venv)\n",
    "* Restart the kernel if changed"
   ]
  },
  {
   "cell_type": "code",
   "execution_count": 1,
   "metadata": {},
   "outputs": [
    {
     "name": "stdout",
     "output_type": "stream",
     "text": [
      "/home/dev/ai/trainplotkit\n"
     ]
    },
    {
     "name": "stderr",
     "output_type": "stream",
     "text": [
      "/home/dev/ai/trainplotkit/.venv/lib/python3.10/site-packages/IPython/core/magics/osm.py:417: UserWarning: This is now an optional IPython functionality, setting dhist requires you to install the `pickleshare` library.\n",
      "  self.shell.db['dhist'] = compress_dhist(dhist)[-100:]\n"
     ]
    }
   ],
   "source": [
    "from pathlib import Path\n",
    "project_root = str(Path.cwd().parent)\n",
    "%cd {project_root}\n",
    "\n",
    "!rm -rf .venv_temp\n",
    "!python -m venv .venv_temp"
   ]
  },
  {
   "cell_type": "markdown",
   "metadata": {},
   "source": [
    "* Change this notebook's kernel to run in the temporary virtual environment (.venv_temp)\n",
    "* Restart the kernel"
   ]
  },
  {
   "cell_type": "code",
   "execution_count": null,
   "metadata": {},
   "outputs": [],
   "source": [
    "%pip install torch torchvision torchaudio --index-url https://download.pytorch.org/whl/cu118"
   ]
  },
  {
   "cell_type": "code",
   "execution_count": null,
   "metadata": {},
   "outputs": [],
   "source": [
    "%pip install git+https://github.com/d112358/trainplotkit.git"
   ]
  },
  {
   "cell_type": "code",
   "execution_count": null,
   "metadata": {},
   "outputs": [],
   "source": [
    "# If the widget is not rendered, restart the kernel and/or reload the UI before running this cell\n",
    "from trainplotkit.sanity_check import setup_sanity_check, run_sanity_check\n",
    "train_loader, valid_loader, model, optimizer, criterion, device, pg = setup_sanity_check()\n",
    "pg.show()"
   ]
  },
  {
   "cell_type": "code",
   "execution_count": null,
   "metadata": {},
   "outputs": [],
   "source": [
    "run_sanity_check(train_loader, valid_loader, model, optimizer, criterion, device, pg)"
   ]
  },
  {
   "cell_type": "markdown",
   "metadata": {},
   "source": [
    "## Upload to TestPyPI\n",
    "* Ensure that this notebook's kernel is running in the main virtual environment (.venv)\n",
    "* Restart the kernel if changed\n",
    "* Verify API key in `$HOME/.pypirc`\n",
    "* More information [here](https://packaging.python.org/en/latest/tutorials/packaging-projects/#uploading-the-distribution-archives)"
   ]
  },
  {
   "cell_type": "code",
   "execution_count": null,
   "metadata": {},
   "outputs": [],
   "source": [
    "%pip install --upgrade twine"
   ]
  },
  {
   "cell_type": "code",
   "execution_count": null,
   "metadata": {},
   "outputs": [],
   "source": [
    "from pathlib import Path\n",
    "if Path.cwd().name != 'trainplotkit':\n",
    "    %cd ..\n",
    "%pwd"
   ]
  },
  {
   "cell_type": "code",
   "execution_count": 2,
   "metadata": {},
   "outputs": [
    {
     "name": "stdout",
     "output_type": "stream",
     "text": [
      "Uploading distributions to https://test.pypi.org/legacy/\n",
      "Uploading trainplotkit-0.1.0-py3-none-any.whl\n",
      "\u001b[2K\u001b[35m100%\u001b[0m \u001b[90m━━━━━━━━━━━━━━━━━━━━━━━━━━━━━━━━━━━━━━━━\u001b[0m \u001b[32m22.0/22.0 kB\u001b[0m • \u001b[33m00:00\u001b[0m • \u001b[31m44.3 MB/s\u001b[0m\n",
      "\u001b[?25hUploading trainplotkit-0.1.0.tar.gz\n",
      "\u001b[2K\u001b[35m100%\u001b[0m \u001b[90m━━━━━━━━━━━━━━━━━━━━━━━━━━━━━━━━━━━━━━━━\u001b[0m \u001b[32m21.5/21.5 kB\u001b[0m • \u001b[33m00:00\u001b[0m • \u001b[31m67.2 MB/s\u001b[0m\n",
      "\u001b[?25h\n",
      "\u001b[32mView at:\u001b[0m\n",
      "https://test.pypi.org/project/trainplotkit/0.1.0/\n"
     ]
    }
   ],
   "source": [
    "!python -m twine upload --repository testpypi dist/*"
   ]
  },
  {
   "cell_type": "markdown",
   "metadata": {},
   "source": [
    "### Test in a temporary virtual environment"
   ]
  },
  {
   "cell_type": "markdown",
   "metadata": {},
   "source": [
    "* Ensure that this notebook's kernel is running in the main virtual environment (.venv)\n",
    "* Restart the kernel if changed"
   ]
  },
  {
   "cell_type": "code",
   "execution_count": 3,
   "metadata": {},
   "outputs": [],
   "source": [
    "from pathlib import Path\n",
    "if Path.cwd().name != 'trainplotkit':\n",
    "    %cd ..\n",
    "%pwd\n",
    "\n",
    "!rm -rf .venv_temp\n",
    "!python -m venv .venv_temp"
   ]
  },
  {
   "cell_type": "markdown",
   "metadata": {},
   "source": [
    "* Change this notebook's kernel to run in the temporary virtual environment (.venv_temp)\n",
    "* Restart the kernel"
   ]
  },
  {
   "cell_type": "code",
   "execution_count": 1,
   "metadata": {},
   "outputs": [
    {
     "name": "stdout",
     "output_type": "stream",
     "text": [
      "Looking in indexes: https://download.pytorch.org/whl/cu118\n",
      "Collecting torch\n",
      "  Using cached https://download.pytorch.org/whl/cu118/torch-2.5.1%2Bcu118-cp310-cp310-linux_x86_64.whl (838.3 MB)\n",
      "Collecting torchvision\n",
      "  Using cached https://download.pytorch.org/whl/cu118/torchvision-0.20.1%2Bcu118-cp310-cp310-linux_x86_64.whl (6.5 MB)\n",
      "Collecting torchaudio\n",
      "  Using cached https://download.pytorch.org/whl/cu118/torchaudio-2.5.1%2Bcu118-cp310-cp310-linux_x86_64.whl (3.3 MB)\n",
      "Collecting nvidia-cusolver-cu11==11.4.1.48\n",
      "  Using cached https://download.pytorch.org/whl/cu118/nvidia_cusolver_cu11-11.4.1.48-py3-none-manylinux1_x86_64.whl (128.2 MB)\n",
      "Collecting nvidia-cufft-cu11==10.9.0.58\n",
      "  Using cached https://download.pytorch.org/whl/cu118/nvidia_cufft_cu11-10.9.0.58-py3-none-manylinux1_x86_64.whl (168.4 MB)\n",
      "Collecting nvidia-nvtx-cu11==11.8.86\n",
      "  Using cached https://download.pytorch.org/whl/cu118/nvidia_nvtx_cu11-11.8.86-py3-none-manylinux1_x86_64.whl (99 kB)\n",
      "Collecting nvidia-cusparse-cu11==11.7.5.86\n",
      "  Using cached https://download.pytorch.org/whl/cu118/nvidia_cusparse_cu11-11.7.5.86-py3-none-manylinux1_x86_64.whl (204.1 MB)\n",
      "Collecting sympy==1.13.1\n",
      "  Using cached https://download.pytorch.org/whl/sympy-1.13.1-py3-none-any.whl (6.2 MB)\n",
      "Collecting nvidia-cuda-cupti-cu11==11.8.87\n",
      "  Using cached https://download.pytorch.org/whl/cu118/nvidia_cuda_cupti_cu11-11.8.87-py3-none-manylinux1_x86_64.whl (13.1 MB)\n",
      "Collecting nvidia-cuda-runtime-cu11==11.8.89\n",
      "  Using cached https://download.pytorch.org/whl/cu118/nvidia_cuda_runtime_cu11-11.8.89-py3-none-manylinux1_x86_64.whl (875 kB)\n",
      "Collecting filelock\n",
      "  Using cached https://download.pytorch.org/whl/filelock-3.13.1-py3-none-any.whl (11 kB)\n",
      "Collecting nvidia-curand-cu11==10.3.0.86\n",
      "  Using cached https://download.pytorch.org/whl/cu118/nvidia_curand_cu11-10.3.0.86-py3-none-manylinux1_x86_64.whl (58.1 MB)\n",
      "Collecting networkx\n",
      "  Using cached https://download.pytorch.org/whl/networkx-3.2.1-py3-none-any.whl (1.6 MB)\n",
      "Collecting nvidia-cuda-nvrtc-cu11==11.8.89\n",
      "  Using cached https://download.pytorch.org/whl/cu118/nvidia_cuda_nvrtc_cu11-11.8.89-py3-none-manylinux1_x86_64.whl (23.2 MB)\n",
      "Requirement already satisfied: typing-extensions>=4.8.0 in /home/dev/ai/trainplotkit/.venv_temp/lib/python3.10/site-packages (from torch) (4.12.2)\n",
      "Collecting triton==3.1.0\n",
      "  Using cached https://download.pytorch.org/whl/triton-3.1.0-cp310-cp310-manylinux_2_17_x86_64.manylinux2014_x86_64.whl (209.5 MB)\n",
      "Collecting nvidia-cudnn-cu11==9.1.0.70\n",
      "  Using cached https://download.pytorch.org/whl/cu118/nvidia_cudnn_cu11-9.1.0.70-py3-none-manylinux2014_x86_64.whl (663.9 MB)\n",
      "Collecting fsspec\n",
      "  Using cached https://download.pytorch.org/whl/fsspec-2024.2.0-py3-none-any.whl (170 kB)\n",
      "Collecting nvidia-cublas-cu11==11.11.3.6\n",
      "  Using cached https://download.pytorch.org/whl/cu118/nvidia_cublas_cu11-11.11.3.6-py3-none-manylinux1_x86_64.whl (417.9 MB)\n",
      "Collecting jinja2\n",
      "  Using cached https://download.pytorch.org/whl/Jinja2-3.1.3-py3-none-any.whl (133 kB)\n",
      "Collecting nvidia-nccl-cu11==2.21.5\n",
      "  Using cached https://download.pytorch.org/whl/cu118/nvidia_nccl_cu11-2.21.5-py3-none-manylinux2014_x86_64.whl (147.8 MB)\n",
      "Collecting mpmath<1.4,>=1.1.0\n",
      "  Using cached https://download.pytorch.org/whl/mpmath-1.3.0-py3-none-any.whl (536 kB)\n",
      "Requirement already satisfied: numpy in /home/dev/ai/trainplotkit/.venv_temp/lib/python3.10/site-packages (from torchvision) (2.2.2)\n",
      "Requirement already satisfied: pillow!=8.3.*,>=5.3.0 in /home/dev/ai/trainplotkit/.venv_temp/lib/python3.10/site-packages (from torchvision) (11.1.0)\n",
      "Collecting MarkupSafe>=2.0\n",
      "  Using cached https://download.pytorch.org/whl/MarkupSafe-2.1.5-cp310-cp310-manylinux_2_17_x86_64.manylinux2014_x86_64.whl (25 kB)\n",
      "Installing collected packages: mpmath, sympy, nvidia-nvtx-cu11, nvidia-nccl-cu11, nvidia-cusparse-cu11, nvidia-curand-cu11, nvidia-cufft-cu11, nvidia-cuda-runtime-cu11, nvidia-cuda-nvrtc-cu11, nvidia-cuda-cupti-cu11, nvidia-cublas-cu11, networkx, MarkupSafe, fsspec, filelock, triton, nvidia-cusolver-cu11, nvidia-cudnn-cu11, jinja2, torch, torchvision, torchaudio\n",
      "Successfully installed MarkupSafe-2.1.5 filelock-3.13.1 fsspec-2024.2.0 jinja2-3.1.3 mpmath-1.3.0 networkx-3.2.1 nvidia-cublas-cu11-11.11.3.6 nvidia-cuda-cupti-cu11-11.8.87 nvidia-cuda-nvrtc-cu11-11.8.89 nvidia-cuda-runtime-cu11-11.8.89 nvidia-cudnn-cu11-9.1.0.70 nvidia-cufft-cu11-10.9.0.58 nvidia-curand-cu11-10.3.0.86 nvidia-cusolver-cu11-11.4.1.48 nvidia-cusparse-cu11-11.7.5.86 nvidia-nccl-cu11-2.21.5 nvidia-nvtx-cu11-11.8.86 sympy-1.13.1 torch-2.5.1+cu118 torchaudio-2.5.1+cu118 torchvision-0.20.1+cu118 triton-3.1.0\n",
      "Note: you may need to restart the kernel to use updated packages.\n",
      "Requirement already satisfied: matplotlib in /home/dev/ai/trainplotkit/.venv_temp/lib/python3.10/site-packages (3.10.0)\n",
      "Requirement already satisfied: numpy in /home/dev/ai/trainplotkit/.venv_temp/lib/python3.10/site-packages (2.2.2)\n",
      "Requirement already satisfied: torcheval in /home/dev/ai/trainplotkit/.venv_temp/lib/python3.10/site-packages (0.0.7)\n",
      "Requirement already satisfied: plotly in /home/dev/ai/trainplotkit/.venv_temp/lib/python3.10/site-packages (5.24.1)\n",
      "Requirement already satisfied: nbformat in /home/dev/ai/trainplotkit/.venv_temp/lib/python3.10/site-packages (5.10.4)\n",
      "Requirement already satisfied: ipywidgets in /home/dev/ai/trainplotkit/.venv_temp/lib/python3.10/site-packages (8.1.5)\n",
      "Requirement already satisfied: kiwisolver>=1.3.1 in /home/dev/ai/trainplotkit/.venv_temp/lib/python3.10/site-packages (from matplotlib) (1.4.8)\n",
      "Requirement already satisfied: packaging>=20.0 in /home/dev/ai/trainplotkit/.venv_temp/lib/python3.10/site-packages (from matplotlib) (24.2)\n",
      "Requirement already satisfied: pillow>=8 in /home/dev/ai/trainplotkit/.venv_temp/lib/python3.10/site-packages (from matplotlib) (11.1.0)\n",
      "Requirement already satisfied: cycler>=0.10 in /home/dev/ai/trainplotkit/.venv_temp/lib/python3.10/site-packages (from matplotlib) (0.12.1)\n",
      "Requirement already satisfied: fonttools>=4.22.0 in /home/dev/ai/trainplotkit/.venv_temp/lib/python3.10/site-packages (from matplotlib) (4.55.4)\n",
      "Requirement already satisfied: pyparsing>=2.3.1 in /home/dev/ai/trainplotkit/.venv_temp/lib/python3.10/site-packages (from matplotlib) (3.2.1)\n",
      "Requirement already satisfied: contourpy>=1.0.1 in /home/dev/ai/trainplotkit/.venv_temp/lib/python3.10/site-packages (from matplotlib) (1.3.1)\n",
      "Requirement already satisfied: python-dateutil>=2.7 in /home/dev/ai/trainplotkit/.venv_temp/lib/python3.10/site-packages (from matplotlib) (2.9.0.post0)\n",
      "Requirement already satisfied: typing-extensions in /home/dev/ai/trainplotkit/.venv_temp/lib/python3.10/site-packages (from torcheval) (4.12.2)\n",
      "Requirement already satisfied: tenacity>=6.2.0 in /home/dev/ai/trainplotkit/.venv_temp/lib/python3.10/site-packages (from plotly) (9.0.0)\n",
      "Requirement already satisfied: jupyter-core!=5.0.*,>=4.12 in /home/dev/ai/trainplotkit/.venv_temp/lib/python3.10/site-packages (from nbformat) (5.7.2)\n",
      "Requirement already satisfied: traitlets>=5.1 in /home/dev/ai/trainplotkit/.venv_temp/lib/python3.10/site-packages (from nbformat) (5.14.3)\n",
      "Requirement already satisfied: jsonschema>=2.6 in /home/dev/ai/trainplotkit/.venv_temp/lib/python3.10/site-packages (from nbformat) (4.23.0)\n",
      "Requirement already satisfied: fastjsonschema>=2.15 in /home/dev/ai/trainplotkit/.venv_temp/lib/python3.10/site-packages (from nbformat) (2.21.1)\n",
      "Requirement already satisfied: jupyterlab-widgets~=3.0.12 in /home/dev/ai/trainplotkit/.venv_temp/lib/python3.10/site-packages (from ipywidgets) (3.0.13)\n",
      "Requirement already satisfied: comm>=0.1.3 in /home/dev/ai/trainplotkit/.venv_temp/lib/python3.10/site-packages (from ipywidgets) (0.2.2)\n",
      "Requirement already satisfied: ipython>=6.1.0 in /home/dev/ai/trainplotkit/.venv_temp/lib/python3.10/site-packages (from ipywidgets) (8.31.0)\n",
      "Requirement already satisfied: widgetsnbextension~=4.0.12 in /home/dev/ai/trainplotkit/.venv_temp/lib/python3.10/site-packages (from ipywidgets) (4.0.13)\n",
      "Requirement already satisfied: pexpect>4.3 in /home/dev/ai/trainplotkit/.venv_temp/lib/python3.10/site-packages (from ipython>=6.1.0->ipywidgets) (4.9.0)\n",
      "Requirement already satisfied: decorator in /home/dev/ai/trainplotkit/.venv_temp/lib/python3.10/site-packages (from ipython>=6.1.0->ipywidgets) (5.1.1)\n",
      "Requirement already satisfied: jedi>=0.16 in /home/dev/ai/trainplotkit/.venv_temp/lib/python3.10/site-packages (from ipython>=6.1.0->ipywidgets) (0.19.2)\n",
      "Requirement already satisfied: exceptiongroup in /home/dev/ai/trainplotkit/.venv_temp/lib/python3.10/site-packages (from ipython>=6.1.0->ipywidgets) (1.2.2)\n",
      "Requirement already satisfied: prompt_toolkit<3.1.0,>=3.0.41 in /home/dev/ai/trainplotkit/.venv_temp/lib/python3.10/site-packages (from ipython>=6.1.0->ipywidgets) (3.0.50)\n",
      "Requirement already satisfied: pygments>=2.4.0 in /home/dev/ai/trainplotkit/.venv_temp/lib/python3.10/site-packages (from ipython>=6.1.0->ipywidgets) (2.19.1)\n",
      "Requirement already satisfied: matplotlib-inline in /home/dev/ai/trainplotkit/.venv_temp/lib/python3.10/site-packages (from ipython>=6.1.0->ipywidgets) (0.1.7)\n",
      "Requirement already satisfied: stack_data in /home/dev/ai/trainplotkit/.venv_temp/lib/python3.10/site-packages (from ipython>=6.1.0->ipywidgets) (0.6.3)\n",
      "Requirement already satisfied: jsonschema-specifications>=2023.03.6 in /home/dev/ai/trainplotkit/.venv_temp/lib/python3.10/site-packages (from jsonschema>=2.6->nbformat) (2024.10.1)\n",
      "Requirement already satisfied: referencing>=0.28.4 in /home/dev/ai/trainplotkit/.venv_temp/lib/python3.10/site-packages (from jsonschema>=2.6->nbformat) (0.36.1)\n",
      "Requirement already satisfied: rpds-py>=0.7.1 in /home/dev/ai/trainplotkit/.venv_temp/lib/python3.10/site-packages (from jsonschema>=2.6->nbformat) (0.22.3)\n",
      "Requirement already satisfied: attrs>=22.2.0 in /home/dev/ai/trainplotkit/.venv_temp/lib/python3.10/site-packages (from jsonschema>=2.6->nbformat) (24.3.0)\n",
      "Requirement already satisfied: platformdirs>=2.5 in /home/dev/ai/trainplotkit/.venv_temp/lib/python3.10/site-packages (from jupyter-core!=5.0.*,>=4.12->nbformat) (4.3.6)\n",
      "Requirement already satisfied: six>=1.5 in /home/dev/ai/trainplotkit/.venv_temp/lib/python3.10/site-packages (from python-dateutil>=2.7->matplotlib) (1.17.0)\n",
      "Requirement already satisfied: parso<0.9.0,>=0.8.4 in /home/dev/ai/trainplotkit/.venv_temp/lib/python3.10/site-packages (from jedi>=0.16->ipython>=6.1.0->ipywidgets) (0.8.4)\n",
      "Requirement already satisfied: ptyprocess>=0.5 in /home/dev/ai/trainplotkit/.venv_temp/lib/python3.10/site-packages (from pexpect>4.3->ipython>=6.1.0->ipywidgets) (0.7.0)\n",
      "Requirement already satisfied: wcwidth in /home/dev/ai/trainplotkit/.venv_temp/lib/python3.10/site-packages (from prompt_toolkit<3.1.0,>=3.0.41->ipython>=6.1.0->ipywidgets) (0.2.13)\n",
      "Requirement already satisfied: asttokens>=2.1.0 in /home/dev/ai/trainplotkit/.venv_temp/lib/python3.10/site-packages (from stack_data->ipython>=6.1.0->ipywidgets) (3.0.0)\n",
      "Requirement already satisfied: executing>=1.2.0 in /home/dev/ai/trainplotkit/.venv_temp/lib/python3.10/site-packages (from stack_data->ipython>=6.1.0->ipywidgets) (2.1.0)\n",
      "Requirement already satisfied: pure-eval in /home/dev/ai/trainplotkit/.venv_temp/lib/python3.10/site-packages (from stack_data->ipython>=6.1.0->ipywidgets) (0.2.3)\n",
      "Note: you may need to restart the kernel to use updated packages.\n"
     ]
    }
   ],
   "source": [
    "%pip install torch torchvision torchaudio --index-url https://download.pytorch.org/whl/cu118\n",
    "%pip install matplotlib numpy torcheval plotly nbformat ipywidgets"
   ]
  },
  {
   "cell_type": "code",
   "execution_count": 2,
   "metadata": {},
   "outputs": [
    {
     "name": "stdout",
     "output_type": "stream",
     "text": [
      "Looking in indexes: https://test.pypi.org/simple/\n",
      "Collecting trainplotkit\n",
      "  Using cached https://test-files.pythonhosted.org/packages/9f/f0/d3319f004f497a6c914f31babf69354055db57afabbac87fcb26dcb4979e/trainplotkit-0.1.0-py3-none-any.whl (14 kB)\n",
      "Requirement already satisfied: matplotlib in /home/dev/ai/trainplotkit/.venv_temp/lib/python3.10/site-packages (from trainplotkit) (3.10.0)\n",
      "Requirement already satisfied: torch>=2.3.0 in /home/dev/ai/trainplotkit/.venv_temp/lib/python3.10/site-packages (from trainplotkit) (2.5.1+cu118)\n",
      "Requirement already satisfied: plotly in /home/dev/ai/trainplotkit/.venv_temp/lib/python3.10/site-packages (from trainplotkit) (5.24.1)\n",
      "Requirement already satisfied: numpy in /home/dev/ai/trainplotkit/.venv_temp/lib/python3.10/site-packages (from trainplotkit) (2.2.2)\n",
      "Requirement already satisfied: ipywidgets in /home/dev/ai/trainplotkit/.venv_temp/lib/python3.10/site-packages (from trainplotkit) (8.1.5)\n",
      "Requirement already satisfied: torcheval in /home/dev/ai/trainplotkit/.venv_temp/lib/python3.10/site-packages (from trainplotkit) (0.0.7)\n",
      "Requirement already satisfied: nbformat in /home/dev/ai/trainplotkit/.venv_temp/lib/python3.10/site-packages (from trainplotkit) (5.10.4)\n",
      "Requirement already satisfied: nvidia-cuda-nvrtc-cu11==11.8.89 in /home/dev/ai/trainplotkit/.venv_temp/lib/python3.10/site-packages (from torch>=2.3.0->trainplotkit) (11.8.89)\n",
      "Requirement already satisfied: triton==3.1.0 in /home/dev/ai/trainplotkit/.venv_temp/lib/python3.10/site-packages (from torch>=2.3.0->trainplotkit) (3.1.0)\n",
      "Requirement already satisfied: nvidia-cudnn-cu11==9.1.0.70 in /home/dev/ai/trainplotkit/.venv_temp/lib/python3.10/site-packages (from torch>=2.3.0->trainplotkit) (9.1.0.70)\n",
      "Requirement already satisfied: typing-extensions>=4.8.0 in /home/dev/ai/trainplotkit/.venv_temp/lib/python3.10/site-packages (from torch>=2.3.0->trainplotkit) (4.12.2)\n",
      "Requirement already satisfied: jinja2 in /home/dev/ai/trainplotkit/.venv_temp/lib/python3.10/site-packages (from torch>=2.3.0->trainplotkit) (3.1.3)\n",
      "Requirement already satisfied: nvidia-curand-cu11==10.3.0.86 in /home/dev/ai/trainplotkit/.venv_temp/lib/python3.10/site-packages (from torch>=2.3.0->trainplotkit) (10.3.0.86)\n",
      "Requirement already satisfied: nvidia-nccl-cu11==2.21.5 in /home/dev/ai/trainplotkit/.venv_temp/lib/python3.10/site-packages (from torch>=2.3.0->trainplotkit) (2.21.5)\n",
      "Requirement already satisfied: filelock in /home/dev/ai/trainplotkit/.venv_temp/lib/python3.10/site-packages (from torch>=2.3.0->trainplotkit) (3.13.1)\n",
      "Requirement already satisfied: nvidia-cusolver-cu11==11.4.1.48 in /home/dev/ai/trainplotkit/.venv_temp/lib/python3.10/site-packages (from torch>=2.3.0->trainplotkit) (11.4.1.48)\n",
      "Requirement already satisfied: nvidia-cuda-runtime-cu11==11.8.89 in /home/dev/ai/trainplotkit/.venv_temp/lib/python3.10/site-packages (from torch>=2.3.0->trainplotkit) (11.8.89)\n",
      "Requirement already satisfied: networkx in /home/dev/ai/trainplotkit/.venv_temp/lib/python3.10/site-packages (from torch>=2.3.0->trainplotkit) (3.2.1)\n",
      "Requirement already satisfied: fsspec in /home/dev/ai/trainplotkit/.venv_temp/lib/python3.10/site-packages (from torch>=2.3.0->trainplotkit) (2024.2.0)\n",
      "Requirement already satisfied: nvidia-cusparse-cu11==11.7.5.86 in /home/dev/ai/trainplotkit/.venv_temp/lib/python3.10/site-packages (from torch>=2.3.0->trainplotkit) (11.7.5.86)\n",
      "Requirement already satisfied: nvidia-cublas-cu11==11.11.3.6 in /home/dev/ai/trainplotkit/.venv_temp/lib/python3.10/site-packages (from torch>=2.3.0->trainplotkit) (11.11.3.6)\n",
      "Requirement already satisfied: nvidia-nvtx-cu11==11.8.86 in /home/dev/ai/trainplotkit/.venv_temp/lib/python3.10/site-packages (from torch>=2.3.0->trainplotkit) (11.8.86)\n",
      "Requirement already satisfied: sympy==1.13.1 in /home/dev/ai/trainplotkit/.venv_temp/lib/python3.10/site-packages (from torch>=2.3.0->trainplotkit) (1.13.1)\n",
      "Requirement already satisfied: nvidia-cufft-cu11==10.9.0.58 in /home/dev/ai/trainplotkit/.venv_temp/lib/python3.10/site-packages (from torch>=2.3.0->trainplotkit) (10.9.0.58)\n",
      "Requirement already satisfied: nvidia-cuda-cupti-cu11==11.8.87 in /home/dev/ai/trainplotkit/.venv_temp/lib/python3.10/site-packages (from torch>=2.3.0->trainplotkit) (11.8.87)\n",
      "Requirement already satisfied: mpmath<1.4,>=1.1.0 in /home/dev/ai/trainplotkit/.venv_temp/lib/python3.10/site-packages (from sympy==1.13.1->torch>=2.3.0->trainplotkit) (1.3.0)\n",
      "Requirement already satisfied: traitlets>=4.3.1 in /home/dev/ai/trainplotkit/.venv_temp/lib/python3.10/site-packages (from ipywidgets->trainplotkit) (5.14.3)\n",
      "Requirement already satisfied: widgetsnbextension~=4.0.12 in /home/dev/ai/trainplotkit/.venv_temp/lib/python3.10/site-packages (from ipywidgets->trainplotkit) (4.0.13)\n",
      "Requirement already satisfied: ipython>=6.1.0 in /home/dev/ai/trainplotkit/.venv_temp/lib/python3.10/site-packages (from ipywidgets->trainplotkit) (8.31.0)\n",
      "Requirement already satisfied: jupyterlab-widgets~=3.0.12 in /home/dev/ai/trainplotkit/.venv_temp/lib/python3.10/site-packages (from ipywidgets->trainplotkit) (3.0.13)\n",
      "Requirement already satisfied: comm>=0.1.3 in /home/dev/ai/trainplotkit/.venv_temp/lib/python3.10/site-packages (from ipywidgets->trainplotkit) (0.2.2)\n",
      "Requirement already satisfied: fonttools>=4.22.0 in /home/dev/ai/trainplotkit/.venv_temp/lib/python3.10/site-packages (from matplotlib->trainplotkit) (4.55.4)\n",
      "Requirement already satisfied: contourpy>=1.0.1 in /home/dev/ai/trainplotkit/.venv_temp/lib/python3.10/site-packages (from matplotlib->trainplotkit) (1.3.1)\n",
      "Requirement already satisfied: pyparsing>=2.3.1 in /home/dev/ai/trainplotkit/.venv_temp/lib/python3.10/site-packages (from matplotlib->trainplotkit) (3.2.1)\n",
      "Requirement already satisfied: kiwisolver>=1.3.1 in /home/dev/ai/trainplotkit/.venv_temp/lib/python3.10/site-packages (from matplotlib->trainplotkit) (1.4.8)\n",
      "Requirement already satisfied: cycler>=0.10 in /home/dev/ai/trainplotkit/.venv_temp/lib/python3.10/site-packages (from matplotlib->trainplotkit) (0.12.1)\n",
      "Requirement already satisfied: packaging>=20.0 in /home/dev/ai/trainplotkit/.venv_temp/lib/python3.10/site-packages (from matplotlib->trainplotkit) (24.2)\n",
      "Requirement already satisfied: python-dateutil>=2.7 in /home/dev/ai/trainplotkit/.venv_temp/lib/python3.10/site-packages (from matplotlib->trainplotkit) (2.9.0.post0)\n",
      "Requirement already satisfied: pillow>=8 in /home/dev/ai/trainplotkit/.venv_temp/lib/python3.10/site-packages (from matplotlib->trainplotkit) (11.1.0)\n",
      "Requirement already satisfied: jupyter-core!=5.0.*,>=4.12 in /home/dev/ai/trainplotkit/.venv_temp/lib/python3.10/site-packages (from nbformat->trainplotkit) (5.7.2)\n",
      "Requirement already satisfied: fastjsonschema>=2.15 in /home/dev/ai/trainplotkit/.venv_temp/lib/python3.10/site-packages (from nbformat->trainplotkit) (2.21.1)\n",
      "Requirement already satisfied: jsonschema>=2.6 in /home/dev/ai/trainplotkit/.venv_temp/lib/python3.10/site-packages (from nbformat->trainplotkit) (4.23.0)\n",
      "Requirement already satisfied: tenacity>=6.2.0 in /home/dev/ai/trainplotkit/.venv_temp/lib/python3.10/site-packages (from plotly->trainplotkit) (9.0.0)\n",
      "Requirement already satisfied: prompt_toolkit<3.1.0,>=3.0.41 in /home/dev/ai/trainplotkit/.venv_temp/lib/python3.10/site-packages (from ipython>=6.1.0->ipywidgets->trainplotkit) (3.0.50)\n",
      "Requirement already satisfied: pygments>=2.4.0 in /home/dev/ai/trainplotkit/.venv_temp/lib/python3.10/site-packages (from ipython>=6.1.0->ipywidgets->trainplotkit) (2.19.1)\n",
      "Requirement already satisfied: decorator in /home/dev/ai/trainplotkit/.venv_temp/lib/python3.10/site-packages (from ipython>=6.1.0->ipywidgets->trainplotkit) (5.1.1)\n",
      "Requirement already satisfied: pexpect>4.3 in /home/dev/ai/trainplotkit/.venv_temp/lib/python3.10/site-packages (from ipython>=6.1.0->ipywidgets->trainplotkit) (4.9.0)\n",
      "Requirement already satisfied: matplotlib-inline in /home/dev/ai/trainplotkit/.venv_temp/lib/python3.10/site-packages (from ipython>=6.1.0->ipywidgets->trainplotkit) (0.1.7)\n",
      "Requirement already satisfied: exceptiongroup in /home/dev/ai/trainplotkit/.venv_temp/lib/python3.10/site-packages (from ipython>=6.1.0->ipywidgets->trainplotkit) (1.2.2)\n",
      "Requirement already satisfied: jedi>=0.16 in /home/dev/ai/trainplotkit/.venv_temp/lib/python3.10/site-packages (from ipython>=6.1.0->ipywidgets->trainplotkit) (0.19.2)\n",
      "Requirement already satisfied: stack_data in /home/dev/ai/trainplotkit/.venv_temp/lib/python3.10/site-packages (from ipython>=6.1.0->ipywidgets->trainplotkit) (0.6.3)\n",
      "Requirement already satisfied: attrs>=22.2.0 in /home/dev/ai/trainplotkit/.venv_temp/lib/python3.10/site-packages (from jsonschema>=2.6->nbformat->trainplotkit) (24.3.0)\n",
      "Requirement already satisfied: referencing>=0.28.4 in /home/dev/ai/trainplotkit/.venv_temp/lib/python3.10/site-packages (from jsonschema>=2.6->nbformat->trainplotkit) (0.36.1)\n",
      "Requirement already satisfied: jsonschema-specifications>=2023.03.6 in /home/dev/ai/trainplotkit/.venv_temp/lib/python3.10/site-packages (from jsonschema>=2.6->nbformat->trainplotkit) (2024.10.1)\n",
      "Requirement already satisfied: rpds-py>=0.7.1 in /home/dev/ai/trainplotkit/.venv_temp/lib/python3.10/site-packages (from jsonschema>=2.6->nbformat->trainplotkit) (0.22.3)\n",
      "Requirement already satisfied: platformdirs>=2.5 in /home/dev/ai/trainplotkit/.venv_temp/lib/python3.10/site-packages (from jupyter-core!=5.0.*,>=4.12->nbformat->trainplotkit) (4.3.6)\n",
      "Requirement already satisfied: six>=1.5 in /home/dev/ai/trainplotkit/.venv_temp/lib/python3.10/site-packages (from python-dateutil>=2.7->matplotlib->trainplotkit) (1.17.0)\n",
      "Requirement already satisfied: MarkupSafe>=2.0 in /home/dev/ai/trainplotkit/.venv_temp/lib/python3.10/site-packages (from jinja2->torch>=2.3.0->trainplotkit) (2.1.5)\n",
      "Requirement already satisfied: parso<0.9.0,>=0.8.4 in /home/dev/ai/trainplotkit/.venv_temp/lib/python3.10/site-packages (from jedi>=0.16->ipython>=6.1.0->ipywidgets->trainplotkit) (0.8.4)\n",
      "Requirement already satisfied: ptyprocess>=0.5 in /home/dev/ai/trainplotkit/.venv_temp/lib/python3.10/site-packages (from pexpect>4.3->ipython>=6.1.0->ipywidgets->trainplotkit) (0.7.0)\n",
      "Requirement already satisfied: wcwidth in /home/dev/ai/trainplotkit/.venv_temp/lib/python3.10/site-packages (from prompt_toolkit<3.1.0,>=3.0.41->ipython>=6.1.0->ipywidgets->trainplotkit) (0.2.13)\n",
      "Requirement already satisfied: executing>=1.2.0 in /home/dev/ai/trainplotkit/.venv_temp/lib/python3.10/site-packages (from stack_data->ipython>=6.1.0->ipywidgets->trainplotkit) (2.1.0)\n",
      "Requirement already satisfied: pure-eval in /home/dev/ai/trainplotkit/.venv_temp/lib/python3.10/site-packages (from stack_data->ipython>=6.1.0->ipywidgets->trainplotkit) (0.2.3)\n",
      "Requirement already satisfied: asttokens>=2.1.0 in /home/dev/ai/trainplotkit/.venv_temp/lib/python3.10/site-packages (from stack_data->ipython>=6.1.0->ipywidgets->trainplotkit) (3.0.0)\n",
      "Installing collected packages: trainplotkit\n",
      "Successfully installed trainplotkit-0.1.0\n",
      "Note: you may need to restart the kernel to use updated packages.\n"
     ]
    }
   ],
   "source": [
    "%pip install --index-url https://test.pypi.org/simple/ trainplotkit"
   ]
  },
  {
   "cell_type": "code",
   "execution_count": null,
   "metadata": {},
   "outputs": [],
   "source": [
    "# If the widget is not rendered, restart the kernel and/or reload the UI before running this cell\n",
    "from trainplotkit.sanity_check import setup_sanity_check, run_sanity_check\n",
    "train_loader, valid_loader, model, optimizer, criterion, device, pg = setup_sanity_check()\n",
    "pg.show()"
   ]
  },
  {
   "cell_type": "code",
   "execution_count": null,
   "metadata": {},
   "outputs": [],
   "source": [
    "run_sanity_check(train_loader, valid_loader, model, optimizer, criterion, device, pg)"
   ]
  },
  {
   "cell_type": "markdown",
   "metadata": {},
   "source": [
    "## Upload to PyPI\n",
    "* Ensure that this notebook's kernel is running in the main virtual environment (.venv)\n",
    "* Restart the kernel if changed\n",
    "* Verify API key in `$HOME/.pypirc`"
   ]
  },
  {
   "cell_type": "code",
   "execution_count": null,
   "metadata": {},
   "outputs": [],
   "source": [
    "%pip install --upgrade twine"
   ]
  },
  {
   "cell_type": "code",
   "execution_count": 2,
   "metadata": {},
   "outputs": [
    {
     "name": "stdout",
     "output_type": "stream",
     "text": [
      "/home/dev/ai/trainplotkit\n"
     ]
    },
    {
     "name": "stderr",
     "output_type": "stream",
     "text": [
      "/home/dev/ai/trainplotkit/.venv/lib/python3.10/site-packages/IPython/core/magics/osm.py:417: UserWarning: This is now an optional IPython functionality, setting dhist requires you to install the `pickleshare` library.\n",
      "  self.shell.db['dhist'] = compress_dhist(dhist)[-100:]\n"
     ]
    },
    {
     "data": {
      "text/plain": [
       "'/home/dev/ai/trainplotkit'"
      ]
     },
     "execution_count": 2,
     "metadata": {},
     "output_type": "execute_result"
    }
   ],
   "source": [
    "from pathlib import Path\n",
    "if Path.cwd().name != 'trainplotkit':\n",
    "    %cd ..\n",
    "%pwd"
   ]
  },
  {
   "cell_type": "code",
   "execution_count": 3,
   "metadata": {},
   "outputs": [
    {
     "name": "stdout",
     "output_type": "stream",
     "text": [
      "Uploading distributions to https://upload.pypi.org/legacy/\n",
      "Uploading trainplotkit-0.1.0-py3-none-any.whl\n",
      "\u001b[2K\u001b[35m100%\u001b[0m \u001b[90m━━━━━━━━━━━━━━━━━━━━━━━━━━━━━━━━━━━━━━━━\u001b[0m \u001b[32m22.0/22.0 kB\u001b[0m • \u001b[33m00:00\u001b[0m • \u001b[31m70.3 MB/s\u001b[0m\n",
      "\u001b[?25hUploading trainplotkit-0.1.0.tar.gz\n",
      "\u001b[2K\u001b[35m100%\u001b[0m \u001b[90m━━━━━━━━━━━━━━━━━━━━━━━━━━━━━━━━━━━━━━━━\u001b[0m \u001b[32m21.5/21.5 kB\u001b[0m • \u001b[33m00:00\u001b[0m • \u001b[31m20.5 MB/s\u001b[0m\n",
      "\u001b[?25h\n",
      "\u001b[32mView at:\u001b[0m\n",
      "https://pypi.org/project/trainplotkit/0.1.0/\n"
     ]
    }
   ],
   "source": [
    "!python -m twine upload dist/*"
   ]
  },
  {
   "cell_type": "markdown",
   "metadata": {},
   "source": [
    "### Test in a temporary virtual environment"
   ]
  },
  {
   "cell_type": "markdown",
   "metadata": {},
   "source": [
    "* Ensure that this notebook's kernel is running in the main virtual environment (.venv)\n",
    "* Restart the kernel if changed"
   ]
  },
  {
   "cell_type": "code",
   "execution_count": 4,
   "metadata": {},
   "outputs": [],
   "source": [
    "from pathlib import Path\n",
    "if Path.cwd().name != 'trainplotkit':\n",
    "    %cd ..\n",
    "%pwd\n",
    "\n",
    "!rm -rf .venv_temp\n",
    "!python -m venv .venv_temp"
   ]
  },
  {
   "cell_type": "markdown",
   "metadata": {},
   "source": [
    "* Change this notebook's kernel to run in the temporary virtual environment (.venv_temp)\n",
    "* Restart the kernel"
   ]
  },
  {
   "cell_type": "code",
   "execution_count": 1,
   "metadata": {},
   "outputs": [
    {
     "name": "stdout",
     "output_type": "stream",
     "text": [
      "Collecting trainplotkit\n",
      "  Downloading trainplotkit-0.1.0-py3-none-any.whl (14 kB)\n",
      "Collecting plotly\n",
      "  Using cached plotly-5.24.1-py3-none-any.whl (19.1 MB)\n",
      "Collecting numpy\n",
      "  Using cached numpy-2.2.2-cp310-cp310-manylinux_2_17_x86_64.manylinux2014_x86_64.whl (16.4 MB)\n",
      "Collecting nbformat\n",
      "  Using cached nbformat-5.10.4-py3-none-any.whl (78 kB)\n",
      "Collecting torch>=2.3.0\n",
      "  Using cached torch-2.5.1-cp310-cp310-manylinux1_x86_64.whl (906.4 MB)\n",
      "Collecting matplotlib\n",
      "  Using cached matplotlib-3.10.0-cp310-cp310-manylinux_2_17_x86_64.manylinux2014_x86_64.whl (8.6 MB)\n",
      "Collecting torcheval\n",
      "  Using cached torcheval-0.0.7-py3-none-any.whl (179 kB)\n",
      "Collecting ipywidgets\n",
      "  Using cached ipywidgets-8.1.5-py3-none-any.whl (139 kB)\n",
      "Requirement already satisfied: typing-extensions>=4.8.0 in /home/dev/ai/trainplotkit/.venv_temp/lib/python3.10/site-packages (from torch>=2.3.0->trainplotkit) (4.12.2)\n",
      "Collecting nvidia-cuda-nvrtc-cu12==12.4.127\n",
      "  Using cached nvidia_cuda_nvrtc_cu12-12.4.127-py3-none-manylinux2014_x86_64.whl (24.6 MB)\n",
      "Collecting nvidia-cusolver-cu12==11.6.1.9\n",
      "  Using cached nvidia_cusolver_cu12-11.6.1.9-py3-none-manylinux2014_x86_64.whl (127.9 MB)\n",
      "Collecting nvidia-cufft-cu12==11.2.1.3\n",
      "  Using cached nvidia_cufft_cu12-11.2.1.3-py3-none-manylinux2014_x86_64.whl (211.5 MB)\n",
      "Collecting nvidia-nvtx-cu12==12.4.127\n",
      "  Using cached nvidia_nvtx_cu12-12.4.127-py3-none-manylinux2014_x86_64.whl (99 kB)\n",
      "Collecting nvidia-cudnn-cu12==9.1.0.70\n",
      "  Using cached nvidia_cudnn_cu12-9.1.0.70-py3-none-manylinux2014_x86_64.whl (664.8 MB)\n",
      "Collecting nvidia-cuda-cupti-cu12==12.4.127\n",
      "  Using cached nvidia_cuda_cupti_cu12-12.4.127-py3-none-manylinux2014_x86_64.whl (13.8 MB)\n",
      "Collecting nvidia-nccl-cu12==2.21.5\n",
      "  Using cached nvidia_nccl_cu12-2.21.5-py3-none-manylinux2014_x86_64.whl (188.7 MB)\n",
      "Collecting nvidia-cusparse-cu12==12.3.1.170\n",
      "  Using cached nvidia_cusparse_cu12-12.3.1.170-py3-none-manylinux2014_x86_64.whl (207.5 MB)\n",
      "Collecting filelock\n",
      "  Downloading filelock-3.17.0-py3-none-any.whl (16 kB)\n",
      "Collecting nvidia-curand-cu12==10.3.5.147\n",
      "  Using cached nvidia_curand_cu12-10.3.5.147-py3-none-manylinux2014_x86_64.whl (56.3 MB)\n",
      "Collecting nvidia-nvjitlink-cu12==12.4.127\n",
      "  Using cached nvidia_nvjitlink_cu12-12.4.127-py3-none-manylinux2014_x86_64.whl (21.1 MB)\n",
      "Collecting nvidia-cublas-cu12==12.4.5.8\n",
      "  Using cached nvidia_cublas_cu12-12.4.5.8-py3-none-manylinux2014_x86_64.whl (363.4 MB)\n",
      "Collecting sympy==1.13.1\n",
      "  Using cached sympy-1.13.1-py3-none-any.whl (6.2 MB)\n",
      "Collecting jinja2\n",
      "  Using cached jinja2-3.1.5-py3-none-any.whl (134 kB)\n",
      "Collecting nvidia-cuda-runtime-cu12==12.4.127\n",
      "  Using cached nvidia_cuda_runtime_cu12-12.4.127-py3-none-manylinux2014_x86_64.whl (883 kB)\n",
      "Collecting networkx\n",
      "  Using cached networkx-3.4.2-py3-none-any.whl (1.7 MB)\n",
      "Collecting fsspec\n",
      "  Using cached fsspec-2024.12.0-py3-none-any.whl (183 kB)\n",
      "Collecting triton==3.1.0\n",
      "  Using cached triton-3.1.0-cp310-cp310-manylinux_2_17_x86_64.manylinux2014_x86_64.whl (209.5 MB)\n",
      "Collecting mpmath<1.4,>=1.1.0\n",
      "  Using cached mpmath-1.3.0-py3-none-any.whl (536 kB)\n",
      "Requirement already satisfied: traitlets>=4.3.1 in /home/dev/ai/trainplotkit/.venv_temp/lib/python3.10/site-packages (from ipywidgets->trainplotkit) (5.14.3)\n",
      "Requirement already satisfied: ipython>=6.1.0 in /home/dev/ai/trainplotkit/.venv_temp/lib/python3.10/site-packages (from ipywidgets->trainplotkit) (8.31.0)\n",
      "Requirement already satisfied: comm>=0.1.3 in /home/dev/ai/trainplotkit/.venv_temp/lib/python3.10/site-packages (from ipywidgets->trainplotkit) (0.2.2)\n",
      "Collecting jupyterlab-widgets~=3.0.12\n",
      "  Using cached jupyterlab_widgets-3.0.13-py3-none-any.whl (214 kB)\n",
      "Collecting widgetsnbextension~=4.0.12\n",
      "  Using cached widgetsnbextension-4.0.13-py3-none-any.whl (2.3 MB)\n",
      "Collecting fonttools>=4.22.0\n",
      "  Using cached fonttools-4.55.4-cp310-cp310-manylinux_2_17_x86_64.manylinux2014_x86_64.whl (4.6 MB)\n",
      "Collecting pillow>=8\n",
      "  Using cached pillow-11.1.0-cp310-cp310-manylinux_2_28_x86_64.whl (4.5 MB)\n",
      "Collecting kiwisolver>=1.3.1\n",
      "  Using cached kiwisolver-1.4.8-cp310-cp310-manylinux_2_12_x86_64.manylinux2010_x86_64.whl (1.6 MB)\n",
      "Collecting cycler>=0.10\n",
      "  Using cached cycler-0.12.1-py3-none-any.whl (8.3 kB)\n",
      "Collecting pyparsing>=2.3.1\n",
      "  Using cached pyparsing-3.2.1-py3-none-any.whl (107 kB)\n",
      "Requirement already satisfied: python-dateutil>=2.7 in /home/dev/ai/trainplotkit/.venv_temp/lib/python3.10/site-packages (from matplotlib->trainplotkit) (2.9.0.post0)\n",
      "Requirement already satisfied: packaging>=20.0 in /home/dev/ai/trainplotkit/.venv_temp/lib/python3.10/site-packages (from matplotlib->trainplotkit) (24.2)\n",
      "Collecting contourpy>=1.0.1\n",
      "  Using cached contourpy-1.3.1-cp310-cp310-manylinux_2_17_x86_64.manylinux2014_x86_64.whl (324 kB)\n",
      "Collecting fastjsonschema>=2.15\n",
      "  Using cached fastjsonschema-2.21.1-py3-none-any.whl (23 kB)\n",
      "Collecting jsonschema>=2.6\n",
      "  Using cached jsonschema-4.23.0-py3-none-any.whl (88 kB)\n",
      "Requirement already satisfied: jupyter-core!=5.0.*,>=4.12 in /home/dev/ai/trainplotkit/.venv_temp/lib/python3.10/site-packages (from nbformat->trainplotkit) (5.7.2)\n",
      "Collecting tenacity>=6.2.0\n",
      "  Using cached tenacity-9.0.0-py3-none-any.whl (28 kB)\n",
      "Requirement already satisfied: decorator in /home/dev/ai/trainplotkit/.venv_temp/lib/python3.10/site-packages (from ipython>=6.1.0->ipywidgets->trainplotkit) (5.1.1)\n",
      "Requirement already satisfied: matplotlib-inline in /home/dev/ai/trainplotkit/.venv_temp/lib/python3.10/site-packages (from ipython>=6.1.0->ipywidgets->trainplotkit) (0.1.7)\n",
      "Requirement already satisfied: pexpect>4.3 in /home/dev/ai/trainplotkit/.venv_temp/lib/python3.10/site-packages (from ipython>=6.1.0->ipywidgets->trainplotkit) (4.9.0)\n",
      "Requirement already satisfied: stack_data in /home/dev/ai/trainplotkit/.venv_temp/lib/python3.10/site-packages (from ipython>=6.1.0->ipywidgets->trainplotkit) (0.6.3)\n",
      "Requirement already satisfied: jedi>=0.16 in /home/dev/ai/trainplotkit/.venv_temp/lib/python3.10/site-packages (from ipython>=6.1.0->ipywidgets->trainplotkit) (0.19.2)\n",
      "Requirement already satisfied: prompt_toolkit<3.1.0,>=3.0.41 in /home/dev/ai/trainplotkit/.venv_temp/lib/python3.10/site-packages (from ipython>=6.1.0->ipywidgets->trainplotkit) (3.0.50)\n",
      "Requirement already satisfied: exceptiongroup in /home/dev/ai/trainplotkit/.venv_temp/lib/python3.10/site-packages (from ipython>=6.1.0->ipywidgets->trainplotkit) (1.2.2)\n",
      "Requirement already satisfied: pygments>=2.4.0 in /home/dev/ai/trainplotkit/.venv_temp/lib/python3.10/site-packages (from ipython>=6.1.0->ipywidgets->trainplotkit) (2.19.1)\n",
      "Collecting referencing>=0.28.4\n",
      "  Using cached referencing-0.36.1-py3-none-any.whl (26 kB)\n",
      "Collecting rpds-py>=0.7.1\n",
      "  Using cached rpds_py-0.22.3-cp310-cp310-manylinux_2_17_x86_64.manylinux2014_x86_64.whl (381 kB)\n",
      "Collecting attrs>=22.2.0\n",
      "  Using cached attrs-24.3.0-py3-none-any.whl (63 kB)\n",
      "Collecting jsonschema-specifications>=2023.03.6\n",
      "  Using cached jsonschema_specifications-2024.10.1-py3-none-any.whl (18 kB)\n",
      "Requirement already satisfied: platformdirs>=2.5 in /home/dev/ai/trainplotkit/.venv_temp/lib/python3.10/site-packages (from jupyter-core!=5.0.*,>=4.12->nbformat->trainplotkit) (4.3.6)\n",
      "Requirement already satisfied: six>=1.5 in /home/dev/ai/trainplotkit/.venv_temp/lib/python3.10/site-packages (from python-dateutil>=2.7->matplotlib->trainplotkit) (1.17.0)\n",
      "Collecting MarkupSafe>=2.0\n",
      "  Using cached MarkupSafe-3.0.2-cp310-cp310-manylinux_2_17_x86_64.manylinux2014_x86_64.whl (20 kB)\n",
      "Requirement already satisfied: parso<0.9.0,>=0.8.4 in /home/dev/ai/trainplotkit/.venv_temp/lib/python3.10/site-packages (from jedi>=0.16->ipython>=6.1.0->ipywidgets->trainplotkit) (0.8.4)\n",
      "Requirement already satisfied: ptyprocess>=0.5 in /home/dev/ai/trainplotkit/.venv_temp/lib/python3.10/site-packages (from pexpect>4.3->ipython>=6.1.0->ipywidgets->trainplotkit) (0.7.0)\n",
      "Requirement already satisfied: wcwidth in /home/dev/ai/trainplotkit/.venv_temp/lib/python3.10/site-packages (from prompt_toolkit<3.1.0,>=3.0.41->ipython>=6.1.0->ipywidgets->trainplotkit) (0.2.13)\n",
      "Requirement already satisfied: pure-eval in /home/dev/ai/trainplotkit/.venv_temp/lib/python3.10/site-packages (from stack_data->ipython>=6.1.0->ipywidgets->trainplotkit) (0.2.3)\n",
      "Requirement already satisfied: executing>=1.2.0 in /home/dev/ai/trainplotkit/.venv_temp/lib/python3.10/site-packages (from stack_data->ipython>=6.1.0->ipywidgets->trainplotkit) (2.1.0)\n",
      "Requirement already satisfied: asttokens>=2.1.0 in /home/dev/ai/trainplotkit/.venv_temp/lib/python3.10/site-packages (from stack_data->ipython>=6.1.0->ipywidgets->trainplotkit) (3.0.0)\n",
      "Installing collected packages: mpmath, fastjsonschema, widgetsnbextension, torcheval, tenacity, sympy, rpds-py, pyparsing, pillow, nvidia-nvtx-cu12, nvidia-nvjitlink-cu12, nvidia-nccl-cu12, nvidia-curand-cu12, nvidia-cufft-cu12, nvidia-cuda-runtime-cu12, nvidia-cuda-nvrtc-cu12, nvidia-cuda-cupti-cu12, nvidia-cublas-cu12, numpy, networkx, MarkupSafe, kiwisolver, jupyterlab-widgets, fsspec, fonttools, filelock, cycler, attrs, triton, referencing, plotly, nvidia-cusparse-cu12, nvidia-cudnn-cu12, jinja2, contourpy, nvidia-cusolver-cu12, matplotlib, jsonschema-specifications, ipywidgets, torch, jsonschema, nbformat, trainplotkit\n",
      "Successfully installed MarkupSafe-3.0.2 attrs-24.3.0 contourpy-1.3.1 cycler-0.12.1 fastjsonschema-2.21.1 filelock-3.17.0 fonttools-4.55.4 fsspec-2024.12.0 ipywidgets-8.1.5 jinja2-3.1.5 jsonschema-4.23.0 jsonschema-specifications-2024.10.1 jupyterlab-widgets-3.0.13 kiwisolver-1.4.8 matplotlib-3.10.0 mpmath-1.3.0 nbformat-5.10.4 networkx-3.4.2 numpy-2.2.2 nvidia-cublas-cu12-12.4.5.8 nvidia-cuda-cupti-cu12-12.4.127 nvidia-cuda-nvrtc-cu12-12.4.127 nvidia-cuda-runtime-cu12-12.4.127 nvidia-cudnn-cu12-9.1.0.70 nvidia-cufft-cu12-11.2.1.3 nvidia-curand-cu12-10.3.5.147 nvidia-cusolver-cu12-11.6.1.9 nvidia-cusparse-cu12-12.3.1.170 nvidia-nccl-cu12-2.21.5 nvidia-nvjitlink-cu12-12.4.127 nvidia-nvtx-cu12-12.4.127 pillow-11.1.0 plotly-5.24.1 pyparsing-3.2.1 referencing-0.36.1 rpds-py-0.22.3 sympy-1.13.1 tenacity-9.0.0 torch-2.5.1 torcheval-0.0.7 trainplotkit-0.1.0 triton-3.1.0 widgetsnbextension-4.0.13\n",
      "Note: you may need to restart the kernel to use updated packages.\n"
     ]
    }
   ],
   "source": [
    "%pip install trainplotkit"
   ]
  },
  {
   "cell_type": "code",
   "execution_count": null,
   "metadata": {},
   "outputs": [],
   "source": [
    "# If the widget is not rendered, restart the kernel and/or reload the UI before running this cell\n",
    "from trainplotkit.sanity_check import setup_sanity_check, run_sanity_check\n",
    "train_loader, valid_loader, model, optimizer, criterion, device, pg = setup_sanity_check()\n",
    "pg.show()"
   ]
  },
  {
   "cell_type": "code",
   "execution_count": null,
   "metadata": {},
   "outputs": [],
   "source": [
    "run_sanity_check(train_loader, valid_loader, model, optimizer, criterion, device, pg)"
   ]
  }
 ],
 "metadata": {
  "kernelspec": {
   "display_name": ".venv_temp",
   "language": "python",
   "name": "python3"
  },
  "language_info": {
   "codemirror_mode": {
    "name": "ipython",
    "version": 3
   },
   "file_extension": ".py",
   "mimetype": "text/x-python",
   "name": "python",
   "nbconvert_exporter": "python",
   "pygments_lexer": "ipython3",
   "version": "3.10.12"
  }
 },
 "nbformat": 4,
 "nbformat_minor": 2
}
