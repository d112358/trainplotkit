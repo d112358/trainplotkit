{
 "cells": [
  {
   "cell_type": "markdown",
   "metadata": {},
   "source": [
    "## Introduction\n",
    "This notebook builds up the `PlotGrid` and `Subplot` classes that allow extensible, dynamically updated and interactive subplots. \n",
    "* `Subplot` is the base class for all built-in and user-defined subplots supported by this library\n",
    "* `PlotGrid` is the main functional entry point into this library and contains a list of `Subplot` instances\n",
    "\n",
    "As an example, a simple training curve plot (loss vs epoch) is developed, first in pieces and then wrapped into a class. The class is designed to be easy to customize for other plot types"
   ]
  },
  {
   "cell_type": "markdown",
   "metadata": {},
   "source": [
    "## Imports"
   ]
  },
  {
   "cell_type": "code",
   "execution_count": 1,
   "metadata": {},
   "outputs": [],
   "source": [
    "import sys, importlib\n",
    "from typing import List, Tuple, Mapping, Any\n",
    "import torch\n",
    "from torch import nn, Tensor\n",
    "from torch.utils.data import Dataset\n",
    "from torcheval.metrics import MulticlassAccuracy\n",
    "from torcheval.metrics.metric import Metric\n",
    "import plotly.graph_objects as go\n",
    "import plotly.callbacks as cb\n",
    "from plotly.basedatatypes import BaseTraceType\n",
    "from plotly.subplots import make_subplots\n",
    "from IPython.display import display\n",
    "\n",
    "sys.path.append('..')\n",
    "from trainplotkit.layout import place_subplots"
   ]
  },
  {
   "cell_type": "code",
   "execution_count": 2,
   "metadata": {},
   "outputs": [],
   "source": [
    "def reload_imports():\n",
    "    importlib.reload(sys.modules['trainplotkit.layout'])\n",
    "    global place_subplots\n",
    "    from trainplotkit.layout import place_subplots"
   ]
  },
  {
   "cell_type": "markdown",
   "metadata": {},
   "source": [
    "## Incrementally updated subplots\n",
    "* First, we'll add hard-coded data incrementally to our graph. \n",
    "* Once we have that working, we'll wrap it into a class and call it from a custom validing loop. \n",
    "* After that, we'll attach it to callback mechanisms of high-level validing frameworks"
   ]
  },
  {
   "cell_type": "code",
   "execution_count": 3,
   "metadata": {},
   "outputs": [
    {
     "data": {
      "application/vnd.jupyter.widget-view+json": {
       "model_id": "3fb76a81668046578ee5158248396f37",
       "version_major": 2,
       "version_minor": 0
      },
      "text/plain": [
       "FigureWidget({\n",
       "    'data': [{'mode': 'lines+markers',\n",
       "              'name': 'Training loss',\n",
       "              'type': 'scatter',\n",
       "              'uid': 'c96f4f1f-760a-448b-a040-8ccfccafbc4d',\n",
       "              'x': [],\n",
       "              'xaxis': 'x',\n",
       "              'y': [],\n",
       "              'yaxis': 'y'},\n",
       "             {'mode': 'lines+markers',\n",
       "              'name': 'Validation loss',\n",
       "              'type': 'scatter',\n",
       "              'uid': '46b96e1d-8947-48c0-9322-3b5624cf7029',\n",
       "              'x': [],\n",
       "              'xaxis': 'x',\n",
       "              'y': [],\n",
       "              'yaxis': 'y'},\n",
       "             {'mode': 'lines+markers',\n",
       "              'name': 'Accuracy',\n",
       "              'type': 'scatter',\n",
       "              'uid': 'ea1af14d-e97f-484e-bf50-a9dcd5a3c970',\n",
       "              'x': [],\n",
       "              'xaxis': 'x2',\n",
       "              'y': [],\n",
       "              'yaxis': 'y2'}],\n",
       "    'layout': {'height': 500,\n",
       "               'margin': {'b': 16, 'l': 8, 'r': 8, 't': 16},\n",
       "               'template': '...',\n",
       "               'width': 800,\n",
       "               'xaxis': {'anchor': 'y', 'domain': [0.0, 1.0], 'title': {'text': 'Epoch'}},\n",
       "               'xaxis2': {'anchor': 'y2', 'domain': [0.0, 1.0], 'title': {'text': 'Epoch'}},\n",
       "               'yaxis': {'anchor': 'x', 'domain': [0.575, 1.0], 'title': {'text': 'Loss'}},\n",
       "               'yaxis2': {'anchor': 'x2', 'domain': [0.0, 0.425], 'title': {'text': 'Accuracy'}}}\n",
       "})"
      ]
     },
     "metadata": {},
     "output_type": "display_data"
    }
   ],
   "source": [
    "# Hard-coded data\n",
    "epochs = list(range(5))\n",
    "train_losses = [0.100, 0.070, 0.060, 0.055, 0.052]\n",
    "valid_losses = [0.090, 0.075, 0.056, 0.054, 0.050]\n",
    "accuracies   = [0.300, 0.600, 0.800, 0.900, 0.950]\n",
    "data_gen = zip(epochs, train_losses, valid_losses, accuracies)  # Yields tuples of the 4 upon calling `next`\n",
    "\n",
    "# Create the figure widget\n",
    "specs = [[{}],[{}]]  # Two vertically arranged subplots, each spanning a single grid cell\n",
    "widget = go.FigureWidget(make_subplots(rows=2, cols=1, specs=specs))\n",
    "widget.update_layout(height=500, width=800, margin=dict(l=8, r=8, t=16, b=16))\n",
    "\n",
    "# Loss subplot with 2 traces\n",
    "widget.add_trace(go.Scatter(x=[], y=[], mode='lines+markers', name='Training loss'), row=1, col=1)\n",
    "metric_trace = widget.data[-1]\n",
    "widget.add_trace(go.Scatter(x=[], y=[], mode='lines+markers', name='Validation loss'), row=1, col=1)\n",
    "valid_loss_trace = widget.data[-1]\n",
    "widget.update_layout(dict(xaxis_title_text='Epoch', yaxis_title_text='Loss'))\n",
    "\n",
    "# Accuracy subplot with 1 trace\n",
    "widget.add_trace(go.Scatter(x=[], y=[], mode='lines+markers', name='Accuracy'), row=2, col=1)\n",
    "accuracy_trace = widget.data[-1]\n",
    "widget.update_layout(dict(xaxis2_title_text='Epoch', yaxis2_title_text='Accuracy'))\n",
    "\n",
    "# Display the widget for subsequent cells to add data points\n",
    "display(widget)"
   ]
  },
  {
   "cell_type": "markdown",
   "metadata": {},
   "source": [
    "Now add data points. Run this cell multiple times to add 1 point at a time"
   ]
  },
  {
   "cell_type": "code",
   "execution_count": 19,
   "metadata": {},
   "outputs": [
    {
     "name": "stdout",
     "output_type": "stream",
     "text": [
      "No more data points to add\n"
     ]
    }
   ],
   "source": [
    "try:\n",
    "    epoch, train_loss, valid_loss, accuracy = next(data_gen)\n",
    "    new_x       = tuple(metric_trace.x) + (epoch,)\n",
    "    new_y_train = tuple(metric_trace.y) + (train_loss,)\n",
    "    new_y_valid = tuple(valid_loss_trace.y) + (valid_loss,)\n",
    "    new_y_acc   = tuple(accuracy_trace.y)   + (accuracy,)\n",
    "    metric_trace.update(x=new_x, y=new_y_train)\n",
    "    valid_loss_trace.update(x=new_x, y=new_y_valid)\n",
    "    accuracy_trace.update(x=new_x, y=new_y_acc)\n",
    "except StopIteration:\n",
    "    print(\"No more data points to add\")\n",
    "except Exception:\n",
    "    # Re-raise any other exceptions\n",
    "    raise "
   ]
  },
  {
   "cell_type": "markdown",
   "metadata": {},
   "source": [
    "## Click events\n",
    "For now, we'll just add additional markers to the widgets to show where the user clicked\n",
    "* A click on one subplot updates markers on both subplots\n",
    "* This can easily be extended to update other subplots in more useful ways, such as selecting an epoch or validation sample to visualize more detailed information at that epoch / sample\n",
    "\n",
    "The widget is displayed again below to reduce scrolling fatigue. Two further interesting observations were made:\n",
    "* Click events may be performed on either of the two copies of the widget\n",
    "* Updates in response to click events are applied to both copies\n",
    "\n",
    "This is probably thanks to the fact that both copies of the widget are referred to by the same ipywidgets model ID in the notebook DOM "
   ]
  },
  {
   "cell_type": "code",
   "execution_count": 5,
   "metadata": {},
   "outputs": [
    {
     "data": {
      "application/vnd.jupyter.widget-view+json": {
       "model_id": "3fb76a81668046578ee5158248396f37",
       "version_major": 2,
       "version_minor": 0
      },
      "text/plain": [
       "FigureWidget({\n",
       "    'data': [{'mode': 'lines+markers',\n",
       "              'name': 'Training loss',\n",
       "              'type': 'scatter',\n",
       "              'uid': 'c96f4f1f-760a-448b-a040-8ccfccafbc4d',\n",
       "              'x': [0],\n",
       "              'xaxis': 'x',\n",
       "              'y': [0.1],\n",
       "              'yaxis': 'y'},\n",
       "             {'mode': 'lines+markers',\n",
       "              'name': 'Validation loss',\n",
       "              'type': 'scatter',\n",
       "              'uid': '46b96e1d-8947-48c0-9322-3b5624cf7029',\n",
       "              'x': [0],\n",
       "              'xaxis': 'x',\n",
       "              'y': [0.09],\n",
       "              'yaxis': 'y'},\n",
       "             {'mode': 'lines+markers',\n",
       "              'name': 'Accuracy',\n",
       "              'type': 'scatter',\n",
       "              'uid': 'ea1af14d-e97f-484e-bf50-a9dcd5a3c970',\n",
       "              'x': [0],\n",
       "              'xaxis': 'x2',\n",
       "              'y': [0.3],\n",
       "              'yaxis': 'y2'},\n",
       "             {'hoverinfo': 'skip',\n",
       "              'marker': {'color': 'rgba(0,0,0,0.2)', 'line': {'color': 'black', 'width': 2}},\n",
       "              'mode': 'markers',\n",
       "              'showlegend': False,\n",
       "              'type': 'scatter',\n",
       "              'uid': 'f5c71179-ab1c-4c4d-a4cd-e1024c998b6b',\n",
       "              'x': [],\n",
       "              'xaxis': 'x',\n",
       "              'y': [],\n",
       "              'yaxis': 'y'},\n",
       "             {'hoverinfo': 'skip',\n",
       "              'marker': {'color': 'rgba(0,0,0,0.2)', 'line': {'color': 'black', 'width': 2}},\n",
       "              'mode': 'markers',\n",
       "              'showlegend': False,\n",
       "              'type': 'scatter',\n",
       "              'uid': '5e568f12-95b2-4362-9e6f-0f9531423559',\n",
       "              'x': [],\n",
       "              'xaxis': 'x2',\n",
       "              'y': [],\n",
       "              'yaxis': 'y2'}],\n",
       "    'layout': {'height': 500,\n",
       "               'margin': {'b': 16, 'l': 8, 'r': 8, 't': 16},\n",
       "               'template': '...',\n",
       "               'width': 800,\n",
       "               'xaxis': {'anchor': 'y', 'domain': [0.0, 1.0], 'title': {'text': 'Epoch'}},\n",
       "               'xaxis2': {'anchor': 'y2', 'domain': [0.0, 1.0], 'title': {'text': 'Epoch'}},\n",
       "               'yaxis': {'anchor': 'x', 'domain': [0.575, 1.0], 'title': {'text': 'Loss'}},\n",
       "               'yaxis2': {'anchor': 'x2', 'domain': [0.0, 0.425], 'title': {'text': 'Accuracy'}}}\n",
       "})"
      ]
     },
     "metadata": {},
     "output_type": "display_data"
    }
   ],
   "source": [
    "# Add marker to loss subplot (initially empty)\n",
    "scatter = go.Scatter(x=[], y=[], mode='markers', showlegend=False, hoverinfo='skip',\n",
    "                    marker=dict(color='rgba(0,0,0,0.2)', line=dict(color='black', width=2)))\n",
    "widget.add_trace(scatter, row=1, col=1)\n",
    "loss_marker_trace = widget.data[-1]\n",
    "\n",
    "# Add marker to accuracy subplot (initially empty)\n",
    "scatter = go.Scatter(x=[], y=[], mode='markers', showlegend=False, hoverinfo='skip',\n",
    "                    marker=dict(color='rgba(0,0,0,0.2)', line=dict(color='black', width=2)))\n",
    "widget.add_trace(scatter, row=2, col=1)\n",
    "accuracy_marker_trace = widget.data[-1]\n",
    "\n",
    "# Define click events\n",
    "def on_trace_click(clicked_trace:BaseTraceType, points:cb.Points, selector):\n",
    "    if not points.point_inds: return\n",
    "    epoch = points.point_inds[0]\n",
    "\n",
    "    # Update loss curve marker\n",
    "    if clicked_trace == valid_loss_trace:\n",
    "        y_loss = valid_loss_trace.y[epoch]\n",
    "    else:\n",
    "        y_loss = metric_trace.y[epoch]\n",
    "    loss_marker_trace.update(x=[epoch], y=[y_loss])\n",
    "\n",
    "    # Update accuracy curve marker\n",
    "    y_acc = accuracy_trace.y[epoch]\n",
    "    accuracy_marker_trace.update(x=[epoch], y=[y_acc])\n",
    "\n",
    "# Register click event\n",
    "metric_trace.on_click(on_trace_click)\n",
    "valid_loss_trace.on_click(on_trace_click)\n",
    "accuracy_trace.on_click(on_trace_click)\n",
    "\n",
    "# Display the widget again to reduce scrolling fatigue\n",
    "# * Note that subsequent updates occur on both copies of the widget\n",
    "# * Click events can also be performed on either copy\n",
    "display(widget)\n"
   ]
  },
  {
   "cell_type": "markdown",
   "metadata": {},
   "source": [
    "## PlotGrid and Subplot classes\n",
    "We need a generic interface that takes care of all the machinery that all plots have in common, but allows the user to specify anything plot-specific. The `Subplot` class will provide this interface.\n",
    "\n",
    "We also need a class to manage the figure widget that contains the different subplots. The `PlotGrid` class will take on this role.\n",
    "\n",
    "At the end of a batch or epoch, the user should be able to call events on `PlotGrid`, which `PlotGrid` then forwards to all subplots. \n",
    "\n",
    "The architecture must support calling these events from either a custom training loop or from a callback registered with a high-level training framework.\n",
    "\n",
    "The implementation in this notebook is a minimal subset of the full implementation: just enough to illustrate the core concepts. In subsequent notebooks, the implementation will be developed further in [subplots.py](../trainplotkit/subplots.py) using the workflow discussed in [development_workflow.ipynb](./development_workflow.ipynb)"
   ]
  },
  {
   "cell_type": "markdown",
   "metadata": {},
   "source": [
    "### Class definitions\n",
    "During the initial setup phase, the typical order of operations is as follows:\n",
    "* The user first creates several instances of `SubPlot` subclasses to specify the plots to generate. At this point, the object's context parameters `parent`, `spi` and `position` are still `None`, because it does not know where it will be placed in the grid\n",
    "* The user creates the `PlotGrid` object, passing in a list of `SubPlot` objects\n",
    "* `PlotGrid.__init__` calls `PlotGrid.create_empty`, from where the `go.FigureWidget` object is created and the subplots are allocated their positions in the grid\n",
    "* `PlotGrid.create_empty` calls `SubPlot.create_empty`, which creates objects for all traces with empty data vectors. The `Subplot` object's context parameters `parent`, `spi` and `position` are also populated here\n",
    "* `SubPlot.create_empty` calls `PlotGrid.add_trace`, which adds the trace to the `go.FigureWidget` object and returns a `BaseTraceType` object which can be used to update the trace data later.\n",
    "  * Note that although the trace object passed into `add_trace()` is of the same type as the trace returned by it, calling the update methods on the former does not actually update the widget.\n",
    "\n",
    "When data becomes available, these are added from the `after_batch` and `after_epoch` methods, which are typically invoked from a custom training loop or from callbacks of higher-level training frameworks.\n",
    "\n",
    "After training has finished, `Subplot.after_fit` is called by the user, from where some subplots will call `PlotGrid.register_user_epoch_event`. This will set the `on_click` events of the appropriate traces, making them interactive.\n",
    "\n",
    "The `append_spi` helper function ensures that the correct object is targeted. Plotly provides the `go.Figure` and `BaseTraceType` objects for the figure and the traces, but there is no object for a subplot. Instead, a specific subplot is targeted by appending a numeric suffix to a dictionary key, e.g. `xaxis2`. `append_spi` appends the correct numeric suffix where appropriate."
   ]
  },
  {
   "cell_type": "code",
   "execution_count": 6,
   "metadata": {},
   "outputs": [],
   "source": [
    "class SubPlot():\n",
    "    def __init__(self, colspan:int=1, rowspan:int=1):\n",
    "        self.span = (rowspan, colspan)\n",
    "        self.parent:\"PlotGrid\" = None\n",
    "        self.spi: int = None  # Index within parent's subplot list\n",
    "        self.position: Tuple[int,int] = None  # (row,col) position in grid\n",
    "\n",
    "    # Subplot labels and contents\n",
    "    def title(self) -> str: return ''\n",
    "    def xlabel(self) -> str: return ''\n",
    "    def ylabel(self) -> str: return ''\n",
    "    def create_empty(self, parent, spi, position):\n",
    "        self.parent = parent\n",
    "        self.spi = spi\n",
    "        self.position = position\n",
    "\n",
    "    # Events\n",
    "    def after_batch(self, training:bool, inputs:Tensor, targets:Tensor, predictions:Tensor, loss:Tensor): pass\n",
    "    def after_epoch(self, training:bool): pass\n",
    "    def after_fit(self): pass\n",
    "    def on_user_epoch(self, epoch:int): pass\n",
    "\n",
    "    # Helpers\n",
    "    def append_spi(self, name):\n",
    "        \"\"\"Ensure that the correct subplot is targeted, e.g. 'xaxis' -> 'xaxis2'\"\"\"\n",
    "        return name if self.spi < 1 else f\"{name}{self.spi+1}\"\n",
    "\n",
    "class PlotGrid():\n",
    "    def __init__(self, num_grid_cols, subplots:List[SubPlot], fig_height=500):\n",
    "        self.num_grid_cols = num_grid_cols\n",
    "        self.subplots = subplots\n",
    "        self.fig_height = fig_height\n",
    "        self.widget: go.FigureWidget = None\n",
    "        self.create_empty()\n",
    "\n",
    "    def show(self): display(self.widget)\n",
    "    def show_static(self, renderer='notebook_connected'): self.widget.show(renderer)\n",
    "\n",
    "    def create_empty(self):\n",
    "        spans = [sp.span for sp in self.subplots]\n",
    "        num_rows, positions, specs, matrix = place_subplots(self.num_grid_cols, spans)\n",
    "        sp_titles = [sp.title() for sp in self.subplots]\n",
    "        self.widget = go.FigureWidget(make_subplots(rows=num_rows, cols=self.num_grid_cols, specs=specs, subplot_titles=sp_titles))\n",
    "        self.widget.update_layout(height=self.fig_height)\n",
    "        for spi, sp in enumerate(self.subplots):\n",
    "            sp.create_empty(self, spi, positions[spi])\n",
    "            self.update_ax_titles(sp)\n",
    "\n",
    "    def add_trace(self, sp:SubPlot, trace:BaseTraceType): \n",
    "        self.widget.add_trace(trace, row=sp.spi+1, col=1)\n",
    "        return self.widget.data[-1]  # Object reference to the trace just added\n",
    "    \n",
    "    def update_ax_titles(self, sp:SubPlot):\n",
    "        xaxis_name = sp.append_spi('xaxis')\n",
    "        yaxis_name = sp.append_spi('yaxis')\n",
    "        kwargs = {xaxis_name: dict(title_text=sp.xlabel()),\n",
    "                  yaxis_name: dict(title_text=sp.ylabel())}\n",
    "        self.widget.update_layout(**kwargs)\n",
    "\n",
    "    def register_user_epoch_event(self, trace:BaseTraceType): \n",
    "        trace.on_click(self.on_user_epoch)\n",
    "\n",
    "    def after_batch(self, training:bool, inputs, targets, predictions, loss):\n",
    "        for sp in self.subplots: sp.after_batch(training, inputs, targets, predictions, loss)\n",
    "    def after_epoch(self, training:bool):\n",
    "        for sp in self.subplots: sp.after_epoch(training)\n",
    "    def after_fit(self):\n",
    "        for sp in self.subplots: sp.after_fit()\n",
    "    def on_user_epoch(self, trace, points:cb.Points, selector):\n",
    "        if not points.point_inds: return\n",
    "        epoch = points.point_inds[0]\n",
    "        for sp in self.subplots: sp.on_user_epoch(epoch)\n"
   ]
  },
  {
   "cell_type": "markdown",
   "metadata": {},
   "source": [
    "### Specifying plots in subclasses\n",
    "The following methods of the two classes below are of note:\n",
    "* `create_empty()` creates and stores the empty trace objects\n",
    "* `after_batch()` updates state as part of the computation of data to be plotted\n",
    "* `after_epoch()` finishes the computation and updates the traces\n",
    "* `after_fit()` registers click events on the traces to make them interactive\n",
    "* `on_user_epoch()` contains the implementation of updates that occur in response to user click events"
   ]
  },
  {
   "cell_type": "code",
   "execution_count": 7,
   "metadata": {},
   "outputs": [],
   "source": [
    "class TrainingCurveSP(SubPlot):\n",
    "    def __init__(self, colspan=1, rowspan=1):\n",
    "        super().__init__(colspan, rowspan)\n",
    "        self.train_loss_trace: BaseTraceType = None\n",
    "        self.valid_loss_trace: BaseTraceType = None\n",
    "        self.marker_trace: BaseTraceType = None\n",
    "        self.epoch = 0\n",
    "        self.train_num = 0\n",
    "        self.train_denom = 0\n",
    "        self.valid_num = 0\n",
    "        self.valid_denom = 0\n",
    "        \n",
    "    def title(self) -> str: return 'Training curve'\n",
    "    def xlabel(self) -> str: return 'Epoch'\n",
    "    def ylabel(self) -> str: return 'Loss'\n",
    "    def create_empty(self, parent:PlotGrid, spi, position):\n",
    "        super().create_empty(parent, spi, position)\n",
    "        train_loss_trace = go.Scatter(x=[], y=[], mode='lines+markers', name='Training loss')\n",
    "        self.train_loss_trace = parent.add_trace(self, train_loss_trace)\n",
    "        valid_loss_trace = go.Scatter(x=[], y=[], mode='lines+markers', name='Validation loss')\n",
    "        self.valid_loss_trace = parent.add_trace(self, valid_loss_trace)\n",
    "        marker_trace = go.Scatter(x=[], y=[], mode='markers', showlegend=False, hoverinfo='skip',\n",
    "                                  marker=dict(color='rgba(0,0,0,0.2)', line=dict(color='black', width=2)))\n",
    "        self.marker_trace = parent.add_trace(self, marker_trace)\n",
    "    \n",
    "    def after_batch(self, training, inputs, targets, predictions, loss):\n",
    "        if training:\n",
    "            self.train_num += float(loss.detach().cpu())\n",
    "            self.train_denom += 1\n",
    "        else:\n",
    "            self.valid_num += float(loss.detach().cpu())\n",
    "            self.valid_denom += 1\n",
    "\n",
    "    def after_epoch(self, training):\n",
    "        if training:\n",
    "            loss = self.train_num / self.train_denom\n",
    "            new_x = tuple(self.train_loss_trace.x) + (self.epoch,)\n",
    "            new_y = tuple(self.train_loss_trace.y) + (loss,)\n",
    "            self.train_loss_trace.update(x=new_x, y=new_y)\n",
    "            self.train_num = 0\n",
    "            self.train_denom = 0\n",
    "        else:\n",
    "            loss = self.valid_num / self.valid_denom\n",
    "            new_x = tuple(self.valid_loss_trace.x) + (self.epoch,)\n",
    "            new_y = tuple(self.valid_loss_trace.y) + (loss,)\n",
    "            self.valid_loss_trace.update(x=new_x, y=new_y)\n",
    "            self.valid_num = 0\n",
    "            self.valid_denom = 0\n",
    "            self.epoch += 1\n",
    "\n",
    "    def after_fit(self):\n",
    "        self.parent.register_user_epoch_event(self.train_loss_trace)\n",
    "        self.parent.register_user_epoch_event(self.valid_loss_trace)\n",
    "        \n",
    "    def on_user_epoch(self, epoch:int):\n",
    "        y = self.train_loss_trace.y[epoch]\n",
    "        self.marker_trace.update(x=[epoch], y=[y])"
   ]
  },
  {
   "cell_type": "code",
   "execution_count": 8,
   "metadata": {},
   "outputs": [],
   "source": [
    "class MetricSP(SubPlot):\n",
    "    def __init__(self, metric_name:str, metric:Metric[Tensor], colspan=1, rowspan=1):\n",
    "        super().__init__(colspan, rowspan)\n",
    "        self.metric_name = metric_name\n",
    "        self.metric = metric\n",
    "        self.metric_trace: BaseTraceType = None\n",
    "        self.marker_trace: BaseTraceType = None\n",
    "        self.epoch = 0\n",
    "        self.train_num = 0\n",
    "        self.train_denom = 0\n",
    "        self.valid_num = 0\n",
    "        self.valid_denom = 0\n",
    "        \n",
    "    def title(self) -> str: return self.metric_name\n",
    "    def xlabel(self) -> str: return 'Epoch'\n",
    "    def ylabel(self) -> str: return self.metric_name\n",
    "    def create_empty(self, parent:PlotGrid, spi, position):\n",
    "        super().create_empty(parent, spi, position)\n",
    "        metric_trace = go.Scatter(x=[], y=[], mode='lines+markers', name=self.metric_name)\n",
    "        self.metric_trace = parent.add_trace(self, metric_trace)\n",
    "        marker_trace = go.Scatter(x=[], y=[], mode='markers', showlegend=False, hoverinfo='skip',\n",
    "                                  marker=dict(color='rgba(0,0,0,0.2)', line=dict(color='black', width=2)))\n",
    "        self.marker_trace = parent.add_trace(self, marker_trace)\n",
    "    \n",
    "    def after_batch(self, training, inputs, targets, predictions, loss):\n",
    "        if training: return  # Only interested in validation samples\n",
    "        self.metric.update(predictions.detach().cpu(), targets.detach().cpu())\n",
    "\n",
    "    def after_epoch(self, training):\n",
    "        if training: return  # Only interested in validation samples\n",
    "        value = self.metric.compute()\n",
    "        new_x = tuple(self.metric_trace.x) + (epoch,)\n",
    "        new_y = tuple(self.metric_trace.y) + (value,)\n",
    "        self.metric_trace.update(x=new_x, y=new_y)\n",
    "        self.metric.reset()\n",
    "\n",
    "    def after_fit(self):\n",
    "        self.parent.register_user_epoch_event(self.metric_trace)\n",
    "        self.parent.register_user_epoch_event(self.metric_trace)\n",
    "        \n",
    "    def on_user_epoch(self, epoch:int):\n",
    "        y = self.metric_trace.y[epoch]\n",
    "        self.marker_trace.update(x=[epoch], y=[y])"
   ]
  },
  {
   "cell_type": "markdown",
   "metadata": {},
   "source": [
    "### Usage example\n",
    "This contains an example of how the classes developed above might be called. Tensors passed to `after_batch` are simulated to produce the same accuracy and loss values as in the earlier examples. The first two cells below contain this simulation and will therefore not normally be needed."
   ]
  },
  {
   "cell_type": "code",
   "execution_count": 9,
   "metadata": {},
   "outputs": [
    {
     "data": {
      "text/plain": [
       "tensor(0.4000)"
      ]
     },
     "execution_count": 9,
     "metadata": {},
     "output_type": "execute_result"
    }
   ],
   "source": [
    "targets=Tensor([1,1,1,1,1,1,1,1,1,1])\n",
    "predictions=Tensor([0,0,0,0,0,0,1,1,1,1])\n",
    "metric = MulticlassAccuracy()\n",
    "metric.update(predictions, targets)\n",
    "metric.compute()"
   ]
  },
  {
   "cell_type": "code",
   "execution_count": 10,
   "metadata": {},
   "outputs": [],
   "source": [
    "train_losses = [0.100, 0.070, 0.060, 0.055, 0.052]\n",
    "valid_losses = [0.090, 0.075, 0.056, 0.054, 0.050]\n",
    "accuracies   = [0.300, 0.600, 0.800, 0.900, 0.950]\n",
    "\n",
    "num_epochs = len(accuracies)\n",
    "batch_size, num_train_batches, num_valid_batches = 10, 20, 10\n",
    "inputs=torch.full((batch_size,1,4,4), fill_value=1)\n",
    "targets=torch.ones((batch_size,))\n",
    "def predictions_gen(accuracies, batch_size, num_batches):\n",
    "    for epoch_accuracy in accuracies:\n",
    "        num_ones = int(epoch_accuracy * batch_size * num_batches)\n",
    "        num_zeros = batch_size * num_batches - num_ones\n",
    "        epoch_preds = torch.cat((torch.ones((num_ones,)), torch.zeros((num_zeros,))), dim=0)\n",
    "        for batch_idx in range(num_batches):\n",
    "            yield epoch_preds[batch_idx*batch_size:batch_idx*batch_size+batch_size]"
   ]
  },
  {
   "cell_type": "markdown",
   "metadata": {},
   "source": [
    "Create the empty widget"
   ]
  },
  {
   "cell_type": "code",
   "execution_count": null,
   "metadata": {},
   "outputs": [
    {
     "data": {
      "application/vnd.jupyter.widget-view+json": {
       "model_id": "50ef7a6290cd4d7184afbf515c8fcf69",
       "version_major": 2,
       "version_minor": 0
      },
      "text/plain": [
       "FigureWidget({\n",
       "    'data': [{'mode': 'lines+markers',\n",
       "              'name': 'Training loss',\n",
       "              'type': 'scatter',\n",
       "              'uid': '576168d0-f355-4fa6-af10-31e274ffbc3b',\n",
       "              'x': [],\n",
       "              'xaxis': 'x',\n",
       "              'y': [],\n",
       "              'yaxis': 'y'},\n",
       "             {'mode': 'lines+markers',\n",
       "              'name': 'Validation loss',\n",
       "              'type': 'scatter',\n",
       "              'uid': '4618f7ee-242f-40a7-a0ed-54035a32cf84',\n",
       "              'x': [],\n",
       "              'xaxis': 'x',\n",
       "              'y': [],\n",
       "              'yaxis': 'y'},\n",
       "             {'hoverinfo': 'skip',\n",
       "              'marker': {'color': 'rgba(0,0,0,0.2)', 'line': {'color': 'black', 'width': 2}},\n",
       "              'mode': 'markers',\n",
       "              'showlegend': False,\n",
       "              'type': 'scatter',\n",
       "              'uid': '7b9537ea-f9ab-48a6-aceb-1b267d3aa824',\n",
       "              'x': [],\n",
       "              'xaxis': 'x',\n",
       "              'y': [],\n",
       "              'yaxis': 'y'},\n",
       "             {'mode': 'lines+markers',\n",
       "              'name': 'Accuracy',\n",
       "              'type': 'scatter',\n",
       "              'uid': 'e9c827fa-39f7-48dd-ba39-9417a132ed97',\n",
       "              'x': [],\n",
       "              'xaxis': 'x2',\n",
       "              'y': [],\n",
       "              'yaxis': 'y2'},\n",
       "             {'hoverinfo': 'skip',\n",
       "              'marker': {'color': 'rgba(0,0,0,0.2)', 'line': {'color': 'black', 'width': 2}},\n",
       "              'mode': 'markers',\n",
       "              'showlegend': False,\n",
       "              'type': 'scatter',\n",
       "              'uid': '5c0accac-46a1-49ae-af6b-4b761966c199',\n",
       "              'x': [],\n",
       "              'xaxis': 'x2',\n",
       "              'y': [],\n",
       "              'yaxis': 'y2'}],\n",
       "    'layout': {'annotations': [{'font': {'size': 16},\n",
       "                                'showarrow': False,\n",
       "                                'text': 'Training curve',\n",
       "                                'x': 0.5,\n",
       "                                'xanchor': 'center',\n",
       "                                'xref': 'paper',\n",
       "                                'y': 1.0,\n",
       "                                'yanchor': 'bottom',\n",
       "                                'yref': 'paper'},\n",
       "                               {'font': {'size': 16},\n",
       "                                'showarrow': False,\n",
       "                                'text': 'Accuracy',\n",
       "                                'x': 0.5,\n",
       "                                'xanchor': 'center',\n",
       "                                'xref': 'paper',\n",
       "                                'y': 0.375,\n",
       "                                'yanchor': 'bottom',\n",
       "                                'yref': 'paper'}],\n",
       "               'height': 500,\n",
       "               'template': '...',\n",
       "               'xaxis': {'anchor': 'y', 'domain': [0.0, 1.0], 'title': {'text': 'Epoch'}},\n",
       "               'xaxis2': {'anchor': 'y2', 'domain': [0.0, 1.0], 'title': {'text': 'Epoch'}},\n",
       "               'yaxis': {'anchor': 'x', 'domain': [0.625, 1.0], 'title': {'text': 'Loss'}},\n",
       "               'yaxis2': {'anchor': 'x2', 'domain': [0.0, 0.375], 'title': {'text': 'Accuracy'}}}\n",
       "})"
      ]
     },
     "metadata": {},
     "output_type": "display_data"
    }
   ],
   "source": [
    "sp0 = TrainingCurveSP()\n",
    "sp1 = MetricSP('Accuracy', MulticlassAccuracy())\n",
    "pg = PlotGrid(num_grid_cols=1, subplots=[sp0,sp1])\n",
    "pg.show()"
   ]
  },
  {
   "cell_type": "markdown",
   "metadata": {},
   "source": [
    "Send the simulated batches through"
   ]
  },
  {
   "cell_type": "code",
   "execution_count": 12,
   "metadata": {},
   "outputs": [],
   "source": [
    "train_preds_gen = predictions_gen(accuracies, batch_size, num_train_batches)\n",
    "valid_preds_gen = predictions_gen(accuracies, batch_size, num_valid_batches)\n",
    "\n",
    "for epoch in range(num_epochs):\n",
    "    for bi in range(num_train_batches):\n",
    "        pg.after_batch(training=True, inputs=inputs, targets=targets, predictions=next(train_preds_gen), loss=Tensor([train_losses[epoch]]))\n",
    "    pg.after_epoch(training=True)\n",
    "    for bi in range(num_valid_batches):\n",
    "        pg.after_batch(training=False, inputs=inputs, targets=targets, predictions=next(valid_preds_gen), loss=Tensor([valid_losses[epoch]]))\n",
    "    pg.after_epoch(training=False)"
   ]
  },
  {
   "cell_type": "markdown",
   "metadata": {},
   "source": [
    "Create click events for interactivity"
   ]
  },
  {
   "cell_type": "code",
   "execution_count": 13,
   "metadata": {},
   "outputs": [],
   "source": [
    "pg.after_fit()"
   ]
  },
  {
   "cell_type": "markdown",
   "metadata": {},
   "source": [
    "### Saving a static copy\n",
    "When done interacting with the figure, add a static copy to the notebook DOM for sharing purposes "
   ]
  },
  {
   "cell_type": "code",
   "execution_count": 14,
   "metadata": {},
   "outputs": [
    {
     "data": {
      "text/html": [
       "        <script type=\"text/javascript\">\n",
       "        window.PlotlyConfig = {MathJaxConfig: 'local'};\n",
       "        if (window.MathJax && window.MathJax.Hub && window.MathJax.Hub.Config) {window.MathJax.Hub.Config({SVG: {font: \"STIX-Web\"}});}\n",
       "        if (typeof require !== 'undefined') {\n",
       "        require.undef(\"plotly\");\n",
       "        requirejs.config({\n",
       "            paths: {\n",
       "                'plotly': ['https://cdn.plot.ly/plotly-2.35.2.min']\n",
       "            }\n",
       "        });\n",
       "        require(['plotly'], function(Plotly) {\n",
       "            window._Plotly = Plotly;\n",
       "        });\n",
       "        }\n",
       "        </script>\n",
       "        "
      ]
     },
     "metadata": {},
     "output_type": "display_data"
    },
    {
     "data": {
      "text/html": [
       "<div>                            <div id=\"0f6aa1f4-e1fa-4e22-9cef-36c59427d02d\" class=\"plotly-graph-div\" style=\"height:500px; width:100%;\"></div>            <script type=\"text/javascript\">                require([\"plotly\"], function(Plotly) {                    window.PLOTLYENV=window.PLOTLYENV || {};                                    if (document.getElementById(\"0f6aa1f4-e1fa-4e22-9cef-36c59427d02d\")) {                    Plotly.newPlot(                        \"0f6aa1f4-e1fa-4e22-9cef-36c59427d02d\",                        [{\"mode\":\"lines+markers\",\"name\":\"Training loss\",\"x\":[0,1,2,3,4],\"y\":[0.10000000149011612,0.07000000029802322,0.05999999865889549,0.054999999701976776,0.052000001072883606],\"type\":\"scatter\",\"uid\":\"576168d0-f355-4fa6-af10-31e274ffbc3b\",\"xaxis\":\"x\",\"yaxis\":\"y\"},{\"mode\":\"lines+markers\",\"name\":\"Validation loss\",\"x\":[0,1,2,3,4],\"y\":[0.09000000357627869,0.07500000298023224,0.0560000017285347,0.05400000140070915,0.05000000074505806],\"type\":\"scatter\",\"uid\":\"4618f7ee-242f-40a7-a0ed-54035a32cf84\",\"xaxis\":\"x\",\"yaxis\":\"y\"},{\"hoverinfo\":\"skip\",\"marker\":{\"color\":\"rgba(0,0,0,0.2)\",\"line\":{\"color\":\"black\",\"width\":2}},\"mode\":\"markers\",\"showlegend\":false,\"x\":[],\"y\":[],\"type\":\"scatter\",\"uid\":\"7b9537ea-f9ab-48a6-aceb-1b267d3aa824\",\"xaxis\":\"x\",\"yaxis\":\"y\"},{\"mode\":\"lines+markers\",\"name\":\"Accuracy\",\"x\":[0,1,2,3,4],\"y\":[0.30000001192092896,0.6000000238418579,0.800000011920929,0.8999999761581421,0.949999988079071],\"type\":\"scatter\",\"uid\":\"e9c827fa-39f7-48dd-ba39-9417a132ed97\",\"xaxis\":\"x2\",\"yaxis\":\"y2\"},{\"hoverinfo\":\"skip\",\"marker\":{\"color\":\"rgba(0,0,0,0.2)\",\"line\":{\"color\":\"black\",\"width\":2}},\"mode\":\"markers\",\"showlegend\":false,\"x\":[],\"y\":[],\"type\":\"scatter\",\"uid\":\"5c0accac-46a1-49ae-af6b-4b761966c199\",\"xaxis\":\"x2\",\"yaxis\":\"y2\"}],                        {\"annotations\":[{\"font\":{\"size\":16},\"showarrow\":false,\"text\":\"Training curve\",\"x\":0.5,\"xanchor\":\"center\",\"xref\":\"paper\",\"y\":1.0,\"yanchor\":\"bottom\",\"yref\":\"paper\"},{\"font\":{\"size\":16},\"showarrow\":false,\"text\":\"Accuracy\",\"x\":0.5,\"xanchor\":\"center\",\"xref\":\"paper\",\"y\":0.375,\"yanchor\":\"bottom\",\"yref\":\"paper\"}],\"template\":{\"data\":{\"barpolar\":[{\"marker\":{\"line\":{\"color\":\"#E5ECF6\",\"width\":0.5},\"pattern\":{\"fillmode\":\"overlay\",\"size\":10,\"solidity\":0.2}},\"type\":\"barpolar\"}],\"bar\":[{\"error_x\":{\"color\":\"#2a3f5f\"},\"error_y\":{\"color\":\"#2a3f5f\"},\"marker\":{\"line\":{\"color\":\"#E5ECF6\",\"width\":0.5},\"pattern\":{\"fillmode\":\"overlay\",\"size\":10,\"solidity\":0.2}},\"type\":\"bar\"}],\"carpet\":[{\"aaxis\":{\"endlinecolor\":\"#2a3f5f\",\"gridcolor\":\"white\",\"linecolor\":\"white\",\"minorgridcolor\":\"white\",\"startlinecolor\":\"#2a3f5f\"},\"baxis\":{\"endlinecolor\":\"#2a3f5f\",\"gridcolor\":\"white\",\"linecolor\":\"white\",\"minorgridcolor\":\"white\",\"startlinecolor\":\"#2a3f5f\"},\"type\":\"carpet\"}],\"choropleth\":[{\"colorbar\":{\"outlinewidth\":0,\"ticks\":\"\"},\"type\":\"choropleth\"}],\"contourcarpet\":[{\"colorbar\":{\"outlinewidth\":0,\"ticks\":\"\"},\"type\":\"contourcarpet\"}],\"contour\":[{\"colorbar\":{\"outlinewidth\":0,\"ticks\":\"\"},\"colorscale\":[[0.0,\"#0d0887\"],[0.1111111111111111,\"#46039f\"],[0.2222222222222222,\"#7201a8\"],[0.3333333333333333,\"#9c179e\"],[0.4444444444444444,\"#bd3786\"],[0.5555555555555556,\"#d8576b\"],[0.6666666666666666,\"#ed7953\"],[0.7777777777777778,\"#fb9f3a\"],[0.8888888888888888,\"#fdca26\"],[1.0,\"#f0f921\"]],\"type\":\"contour\"}],\"heatmapgl\":[{\"colorbar\":{\"outlinewidth\":0,\"ticks\":\"\"},\"colorscale\":[[0.0,\"#0d0887\"],[0.1111111111111111,\"#46039f\"],[0.2222222222222222,\"#7201a8\"],[0.3333333333333333,\"#9c179e\"],[0.4444444444444444,\"#bd3786\"],[0.5555555555555556,\"#d8576b\"],[0.6666666666666666,\"#ed7953\"],[0.7777777777777778,\"#fb9f3a\"],[0.8888888888888888,\"#fdca26\"],[1.0,\"#f0f921\"]],\"type\":\"heatmapgl\"}],\"heatmap\":[{\"colorbar\":{\"outlinewidth\":0,\"ticks\":\"\"},\"colorscale\":[[0.0,\"#0d0887\"],[0.1111111111111111,\"#46039f\"],[0.2222222222222222,\"#7201a8\"],[0.3333333333333333,\"#9c179e\"],[0.4444444444444444,\"#bd3786\"],[0.5555555555555556,\"#d8576b\"],[0.6666666666666666,\"#ed7953\"],[0.7777777777777778,\"#fb9f3a\"],[0.8888888888888888,\"#fdca26\"],[1.0,\"#f0f921\"]],\"type\":\"heatmap\"}],\"histogram2dcontour\":[{\"colorbar\":{\"outlinewidth\":0,\"ticks\":\"\"},\"colorscale\":[[0.0,\"#0d0887\"],[0.1111111111111111,\"#46039f\"],[0.2222222222222222,\"#7201a8\"],[0.3333333333333333,\"#9c179e\"],[0.4444444444444444,\"#bd3786\"],[0.5555555555555556,\"#d8576b\"],[0.6666666666666666,\"#ed7953\"],[0.7777777777777778,\"#fb9f3a\"],[0.8888888888888888,\"#fdca26\"],[1.0,\"#f0f921\"]],\"type\":\"histogram2dcontour\"}],\"histogram2d\":[{\"colorbar\":{\"outlinewidth\":0,\"ticks\":\"\"},\"colorscale\":[[0.0,\"#0d0887\"],[0.1111111111111111,\"#46039f\"],[0.2222222222222222,\"#7201a8\"],[0.3333333333333333,\"#9c179e\"],[0.4444444444444444,\"#bd3786\"],[0.5555555555555556,\"#d8576b\"],[0.6666666666666666,\"#ed7953\"],[0.7777777777777778,\"#fb9f3a\"],[0.8888888888888888,\"#fdca26\"],[1.0,\"#f0f921\"]],\"type\":\"histogram2d\"}],\"histogram\":[{\"marker\":{\"pattern\":{\"fillmode\":\"overlay\",\"size\":10,\"solidity\":0.2}},\"type\":\"histogram\"}],\"mesh3d\":[{\"colorbar\":{\"outlinewidth\":0,\"ticks\":\"\"},\"type\":\"mesh3d\"}],\"parcoords\":[{\"line\":{\"colorbar\":{\"outlinewidth\":0,\"ticks\":\"\"}},\"type\":\"parcoords\"}],\"pie\":[{\"automargin\":true,\"type\":\"pie\"}],\"scatter3d\":[{\"line\":{\"colorbar\":{\"outlinewidth\":0,\"ticks\":\"\"}},\"marker\":{\"colorbar\":{\"outlinewidth\":0,\"ticks\":\"\"}},\"type\":\"scatter3d\"}],\"scattercarpet\":[{\"marker\":{\"colorbar\":{\"outlinewidth\":0,\"ticks\":\"\"}},\"type\":\"scattercarpet\"}],\"scattergeo\":[{\"marker\":{\"colorbar\":{\"outlinewidth\":0,\"ticks\":\"\"}},\"type\":\"scattergeo\"}],\"scattergl\":[{\"marker\":{\"colorbar\":{\"outlinewidth\":0,\"ticks\":\"\"}},\"type\":\"scattergl\"}],\"scattermapbox\":[{\"marker\":{\"colorbar\":{\"outlinewidth\":0,\"ticks\":\"\"}},\"type\":\"scattermapbox\"}],\"scatterpolargl\":[{\"marker\":{\"colorbar\":{\"outlinewidth\":0,\"ticks\":\"\"}},\"type\":\"scatterpolargl\"}],\"scatterpolar\":[{\"marker\":{\"colorbar\":{\"outlinewidth\":0,\"ticks\":\"\"}},\"type\":\"scatterpolar\"}],\"scatter\":[{\"fillpattern\":{\"fillmode\":\"overlay\",\"size\":10,\"solidity\":0.2},\"type\":\"scatter\"}],\"scatterternary\":[{\"marker\":{\"colorbar\":{\"outlinewidth\":0,\"ticks\":\"\"}},\"type\":\"scatterternary\"}],\"surface\":[{\"colorbar\":{\"outlinewidth\":0,\"ticks\":\"\"},\"colorscale\":[[0.0,\"#0d0887\"],[0.1111111111111111,\"#46039f\"],[0.2222222222222222,\"#7201a8\"],[0.3333333333333333,\"#9c179e\"],[0.4444444444444444,\"#bd3786\"],[0.5555555555555556,\"#d8576b\"],[0.6666666666666666,\"#ed7953\"],[0.7777777777777778,\"#fb9f3a\"],[0.8888888888888888,\"#fdca26\"],[1.0,\"#f0f921\"]],\"type\":\"surface\"}],\"table\":[{\"cells\":{\"fill\":{\"color\":\"#EBF0F8\"},\"line\":{\"color\":\"white\"}},\"header\":{\"fill\":{\"color\":\"#C8D4E3\"},\"line\":{\"color\":\"white\"}},\"type\":\"table\"}]},\"layout\":{\"annotationdefaults\":{\"arrowcolor\":\"#2a3f5f\",\"arrowhead\":0,\"arrowwidth\":1},\"autotypenumbers\":\"strict\",\"coloraxis\":{\"colorbar\":{\"outlinewidth\":0,\"ticks\":\"\"}},\"colorscale\":{\"diverging\":[[0,\"#8e0152\"],[0.1,\"#c51b7d\"],[0.2,\"#de77ae\"],[0.3,\"#f1b6da\"],[0.4,\"#fde0ef\"],[0.5,\"#f7f7f7\"],[0.6,\"#e6f5d0\"],[0.7,\"#b8e186\"],[0.8,\"#7fbc41\"],[0.9,\"#4d9221\"],[1,\"#276419\"]],\"sequential\":[[0.0,\"#0d0887\"],[0.1111111111111111,\"#46039f\"],[0.2222222222222222,\"#7201a8\"],[0.3333333333333333,\"#9c179e\"],[0.4444444444444444,\"#bd3786\"],[0.5555555555555556,\"#d8576b\"],[0.6666666666666666,\"#ed7953\"],[0.7777777777777778,\"#fb9f3a\"],[0.8888888888888888,\"#fdca26\"],[1.0,\"#f0f921\"]],\"sequentialminus\":[[0.0,\"#0d0887\"],[0.1111111111111111,\"#46039f\"],[0.2222222222222222,\"#7201a8\"],[0.3333333333333333,\"#9c179e\"],[0.4444444444444444,\"#bd3786\"],[0.5555555555555556,\"#d8576b\"],[0.6666666666666666,\"#ed7953\"],[0.7777777777777778,\"#fb9f3a\"],[0.8888888888888888,\"#fdca26\"],[1.0,\"#f0f921\"]]},\"colorway\":[\"#636efa\",\"#EF553B\",\"#00cc96\",\"#ab63fa\",\"#FFA15A\",\"#19d3f3\",\"#FF6692\",\"#B6E880\",\"#FF97FF\",\"#FECB52\"],\"font\":{\"color\":\"#2a3f5f\"},\"geo\":{\"bgcolor\":\"white\",\"lakecolor\":\"white\",\"landcolor\":\"#E5ECF6\",\"showlakes\":true,\"showland\":true,\"subunitcolor\":\"white\"},\"hoverlabel\":{\"align\":\"left\"},\"hovermode\":\"closest\",\"mapbox\":{\"style\":\"light\"},\"paper_bgcolor\":\"white\",\"plot_bgcolor\":\"#E5ECF6\",\"polar\":{\"angularaxis\":{\"gridcolor\":\"white\",\"linecolor\":\"white\",\"ticks\":\"\"},\"bgcolor\":\"#E5ECF6\",\"radialaxis\":{\"gridcolor\":\"white\",\"linecolor\":\"white\",\"ticks\":\"\"}},\"scene\":{\"xaxis\":{\"backgroundcolor\":\"#E5ECF6\",\"gridcolor\":\"white\",\"gridwidth\":2,\"linecolor\":\"white\",\"showbackground\":true,\"ticks\":\"\",\"zerolinecolor\":\"white\"},\"yaxis\":{\"backgroundcolor\":\"#E5ECF6\",\"gridcolor\":\"white\",\"gridwidth\":2,\"linecolor\":\"white\",\"showbackground\":true,\"ticks\":\"\",\"zerolinecolor\":\"white\"},\"zaxis\":{\"backgroundcolor\":\"#E5ECF6\",\"gridcolor\":\"white\",\"gridwidth\":2,\"linecolor\":\"white\",\"showbackground\":true,\"ticks\":\"\",\"zerolinecolor\":\"white\"}},\"shapedefaults\":{\"line\":{\"color\":\"#2a3f5f\"}},\"ternary\":{\"aaxis\":{\"gridcolor\":\"white\",\"linecolor\":\"white\",\"ticks\":\"\"},\"baxis\":{\"gridcolor\":\"white\",\"linecolor\":\"white\",\"ticks\":\"\"},\"bgcolor\":\"#E5ECF6\",\"caxis\":{\"gridcolor\":\"white\",\"linecolor\":\"white\",\"ticks\":\"\"}},\"title\":{\"x\":0.05},\"xaxis\":{\"automargin\":true,\"gridcolor\":\"white\",\"linecolor\":\"white\",\"ticks\":\"\",\"title\":{\"standoff\":15},\"zerolinecolor\":\"white\",\"zerolinewidth\":2},\"yaxis\":{\"automargin\":true,\"gridcolor\":\"white\",\"linecolor\":\"white\",\"ticks\":\"\",\"title\":{\"standoff\":15},\"zerolinecolor\":\"white\",\"zerolinewidth\":2}}},\"xaxis\":{\"anchor\":\"y\",\"domain\":[0.0,1.0],\"title\":{\"text\":\"Epoch\"}},\"yaxis\":{\"anchor\":\"x\",\"domain\":[0.625,1.0],\"title\":{\"text\":\"Loss\"}},\"xaxis2\":{\"anchor\":\"y2\",\"domain\":[0.0,1.0],\"title\":{\"text\":\"Epoch\"}},\"yaxis2\":{\"anchor\":\"x2\",\"domain\":[0.0,0.375],\"title\":{\"text\":\"Accuracy\"}},\"height\":500},                        {\"responsive\": true}                    ).then(function(){\n",
       "                            \n",
       "var gd = document.getElementById('0f6aa1f4-e1fa-4e22-9cef-36c59427d02d');\n",
       "var x = new MutationObserver(function (mutations, observer) {{\n",
       "        var display = window.getComputedStyle(gd).display;\n",
       "        if (!display || display === 'none') {{\n",
       "            console.log([gd, 'removed!']);\n",
       "            Plotly.purge(gd);\n",
       "            observer.disconnect();\n",
       "        }}\n",
       "}});\n",
       "\n",
       "// Listen for the removal of the full notebook cells\n",
       "var notebookContainer = gd.closest('#notebook-container');\n",
       "if (notebookContainer) {{\n",
       "    x.observe(notebookContainer, {childList: true});\n",
       "}}\n",
       "\n",
       "// Listen for the clearing of the current output cell\n",
       "var outputEl = gd.closest('.output');\n",
       "if (outputEl) {{\n",
       "    x.observe(outputEl, {childList: true});\n",
       "}}\n",
       "\n",
       "                        })                };                });            </script>        </div>"
      ]
     },
     "metadata": {},
     "output_type": "display_data"
    }
   ],
   "source": [
    "pg.show_static()"
   ]
  },
  {
   "cell_type": "markdown",
   "metadata": {},
   "source": [
    "## Discussion"
   ]
  },
  {
   "cell_type": "markdown",
   "metadata": {},
   "source": [
    "### Architectural considerations\n",
    "A design aim was to support easy integration from both custom training loops and high-level frameworks like `pytorch_lightning`, `fastai` and HuggingFace `Trainer` without requiring the user to write much code in either case.\n",
    "\n",
    "The following decisions were made:\n",
    "* Training loop variables such as `inputs`, `targets`, `predictions` and `loss` are passed as arguments to `PlotGrid.after_batch`\n",
    "* If subplots require access to activations and/or parameters of specific modules, references to these modules are passed to the constructor of the `SubPlot` subclass"
   ]
  },
  {
   "cell_type": "markdown",
   "metadata": {},
   "source": [
    "### Using a custom training loop\n",
    "User code is responsible for the following steps:\n",
    "* Constructing instances of `SubPlot` subclasses to specify the desired plots\n",
    "* Constructing a `PlotGrid` instance with a list of these `SubPlot` instances as argument\n",
    "* Calling `PlotGrid.show()` from the cell(s) below which the widget should be displayed\n",
    "* Calling `PlotGrid.after_batch()`, `PlotGrid.after_epoch()`, etc. from the appropriate places in the training loop\n",
    "\n",
    "Optional user steps for additional functionality\n",
    "* Interacting with graphs after calling `PlotGrid.after_fit()` where specific subplots define events\n",
    "* Adding a static copy to the notebook DOM using `PlotGrid.show_static()`\n",
    "* Adding an customizing subplots by subclassing `SubPlot` or one of its other subclasses\n",
    "\n",
    "An example of how `trainplotkit` may be used from a custom training loop is provided in [04_using_custom_training_loop.ipynb](./04_using_custom_training_loop.ipynb)"
   ]
  },
  {
   "cell_type": "markdown",
   "metadata": {},
   "source": [
    "### Using a high-level framework\n",
    "* Most high-level frameworks like `pytorch_lightning`, `fastai` and HuggingFace `Trainer` allow users to provide callbacks that will be executed by the framework after batches, epochs, etc.\n",
    "* The steps for using a framework with `trainplotkit` is similar to those for a custom training loop above, except that the `PlotGrid` object must be passed to the constructor of such a callback and events like `after_batch`, `after_epoch`, etc. must be called from the appropriate callback methods\n",
    "* For `pytorch_lightning` and `fastai`, `trainplotkit` already provides callback adapters, which can be constructed as-is and passed as callbacks to the high-level framework. These adapters take care of calling the right methods of `PlotGrid` at the right time\n",
    "\n",
    "Examples of how `trainplotkit` may be used with these high-level frameworks are provided in [05_using_pyorch_lightning.ipynb](./05_using_pyorch_lightning.ipynb) and [06_using_fastai](./06_using_fastai.ipynb)"
   ]
  },
  {
   "cell_type": "markdown",
   "metadata": {},
   "source": [
    "The diagram below shows the information path from the custom training loop or high-level framework to the plot implementation.\n",
    "\n",
    "![trainplotkit architecture diagram](../resources/trainplotkit_arch.png) "
   ]
  }
 ],
 "metadata": {
  "kernelspec": {
   "display_name": ".venv",
   "language": "python",
   "name": "python3"
  },
  "language_info": {
   "codemirror_mode": {
    "name": "ipython",
    "version": 3
   },
   "file_extension": ".py",
   "mimetype": "text/x-python",
   "name": "python",
   "nbconvert_exporter": "python",
   "pygments_lexer": "ipython3",
   "version": "3.10.12"
  }
 },
 "nbformat": 4,
 "nbformat_minor": 2
}
