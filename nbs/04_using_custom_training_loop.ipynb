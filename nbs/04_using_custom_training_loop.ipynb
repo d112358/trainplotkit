{
 "cells": [
  {
   "cell_type": "markdown",
   "metadata": {},
   "source": [
    "## Introduction\n",
    "In this notebook, a simple model is trained while visualizing several graphs\n",
    "* Line graphs: training loss, validation loss and accuracy as a function of epoch\n",
    "* Scatter plot: Validation loss for individual validation samples\n",
    "* A sample image, selectable by clicking a sample on the scatter plot \n",
    "* Bar graph: class probabilities for selected sample \n",
    "\n",
    "The MNIST dataset is used in this notebook to facilitate fast iteration on plot functionality updates.\n",
    "\n",
    "While writing this notebook, the functionality developed in [03_architecture.ipynb](./03_architecture.ipynb) was expanded directly in [](../trainplotkit/subplots.py) using the workflow described in [development_workflow.ipynb](./development_workflow.ipynb)"
   ]
  },
  {
   "cell_type": "markdown",
   "metadata": {},
   "source": [
    "## Imports"
   ]
  },
  {
   "cell_type": "code",
   "execution_count": 1,
   "metadata": {},
   "outputs": [],
   "source": [
    "import sys, importlib\n",
    "import torch\n",
    "from torch import nn, optim, Tensor\n",
    "import torch.nn.functional as F\n",
    "from torch.optim.lr_scheduler import StepLR\n",
    "from torchvision import datasets, transforms\n",
    "from torcheval.metrics import MulticlassAccuracy\n",
    "\n",
    "sys.path.append('..')\n",
    "from trainplotkit.layout import place_subplots\n",
    "from trainplotkit.subplots import PlotGrid, SubPlot, TrainingCurveSP, MetricSP, ValidLossSP"
   ]
  },
  {
   "cell_type": "code",
   "execution_count": 2,
   "metadata": {},
   "outputs": [],
   "source": [
    "def reload_imports():\n",
    "    importlib.reload(sys.modules['trainplotkit.layout'])\n",
    "    importlib.reload(sys.modules['trainplotkit.subplots'])\n",
    "    global place_subplots, PlotGrid, SubPlot, TrainingCurveSP, MetricSP, ValidLossSP\n",
    "    from trainplotkit.layout import place_subplots\n",
    "    from trainplotkit.subplots import PlotGrid, SubPlot, TrainingCurveSP, MetricSP, ValidLossSP"
   ]
  },
  {
   "cell_type": "markdown",
   "metadata": {},
   "source": [
    "## Data preparation\n",
    "Based on [PyTorch Basic MNIST Example](https://github.com/pytorch/examples/blob/main/mnist/main.py)"
   ]
  },
  {
   "cell_type": "code",
   "execution_count": 3,
   "metadata": {},
   "outputs": [],
   "source": [
    "transform=transforms.Compose([\n",
    "    transforms.ToTensor(),\n",
    "    transforms.Normalize((0.1307,), (0.3081,))\n",
    "    ])\n",
    "dataset1 = datasets.MNIST('../data', train=True, download=True, transform=transform)\n",
    "dataset2 = datasets.MNIST('../data', train=False, transform=transform)\n",
    "train_loader = torch.utils.data.DataLoader(dataset1, batch_size=64, num_workers=1, pin_memory=True, shuffle=True)\n",
    "test_loader  = torch.utils.data.DataLoader(dataset2, batch_size=500, num_workers=1, pin_memory=True, shuffle=True)"
   ]
  },
  {
   "cell_type": "code",
   "execution_count": 4,
   "metadata": {},
   "outputs": [
    {
     "data": {
      "text/plain": [
       "torch.Size([1, 28, 28])"
      ]
     },
     "execution_count": 4,
     "metadata": {},
     "output_type": "execute_result"
    }
   ],
   "source": [
    "dataset1[0][0].shape"
   ]
  },
  {
   "cell_type": "markdown",
   "metadata": {},
   "source": [
    "## Model\n",
    "Based on [PyTorch Basic MNIST Example](https://github.com/pytorch/examples/blob/main/mnist/main.py)"
   ]
  },
  {
   "cell_type": "code",
   "execution_count": 5,
   "metadata": {},
   "outputs": [],
   "source": [
    "class Net(nn.Module):\n",
    "    def __init__(self):\n",
    "        super(Net, self).__init__()\n",
    "        self.conv1 = nn.Conv2d(1, 32, 3, 1)\n",
    "        self.conv2 = nn.Conv2d(32, 64, 3, 1)\n",
    "        self.dropout1 = nn.Dropout(0.25)\n",
    "        self.dropout2 = nn.Dropout(0.5)\n",
    "        self.fc1 = nn.Linear(9216, 128)\n",
    "        self.fc2 = nn.Linear(128, 10)\n",
    "\n",
    "    def forward(self, x):\n",
    "        x = self.conv1(x)\n",
    "        x = F.relu(x)\n",
    "        x = self.conv2(x)\n",
    "        x = F.relu(x)\n",
    "        x = F.max_pool2d(x, 2)\n",
    "        x = self.dropout1(x)\n",
    "        x = torch.flatten(x, 1)\n",
    "        x = self.fc1(x)\n",
    "        x = F.relu(x)\n",
    "        x = self.dropout2(x)\n",
    "        x = self.fc2(x)\n",
    "        output = F.log_softmax(x, dim=1)\n",
    "        return output"
   ]
  },
  {
   "cell_type": "code",
   "execution_count": 6,
   "metadata": {},
   "outputs": [],
   "source": [
    "class SmallNet(nn.Module):\n",
    "    def __init__(self):\n",
    "        super(SmallNet, self).__init__()\n",
    "        self.conv1 = nn.Conv2d(1, 8, 3, 2)\n",
    "        self.conv2 = nn.Conv2d(8, 16, 3, 2)\n",
    "        self.dropout1 = nn.Dropout(0.25)\n",
    "        self.dropout2 = nn.Dropout(0.5)\n",
    "        self.fc1 = nn.Linear(144, 128)\n",
    "        self.fc2 = nn.Linear(128, 10)\n",
    "\n",
    "    def forward(self, x):\n",
    "        x = self.conv1(x)\n",
    "        x = F.relu(x)\n",
    "        x = self.conv2(x)\n",
    "        x = F.relu(x)\n",
    "        x = F.max_pool2d(x, 2)\n",
    "        x = self.dropout1(x)\n",
    "        x = torch.flatten(x, 1)\n",
    "        x = self.fc1(x)\n",
    "        x = F.relu(x)\n",
    "        x = self.dropout2(x)\n",
    "        x = self.fc2(x)\n",
    "        output = F.log_softmax(x, dim=1)\n",
    "        return output"
   ]
  },
  {
   "cell_type": "markdown",
   "metadata": {},
   "source": [
    "## Training loop\n",
    "* Based on [PyTorch Basic MNIST Example](https://github.com/pytorch/examples/blob/main/mnist/main.py)\n",
    "* Small edits to add calls to `PlotGrid` methods"
   ]
  },
  {
   "cell_type": "code",
   "execution_count": 7,
   "metadata": {},
   "outputs": [],
   "source": [
    "def train_epoch(model, device, train_loader, optimizer, pg:PlotGrid):\n",
    "    model.train()\n",
    "    for data, target in train_loader:\n",
    "        data, target = data.to(device), target.to(device)\n",
    "        optimizer.zero_grad()\n",
    "        output = model(data)\n",
    "        loss = F.nll_loss(output, target)\n",
    "        loss.backward()\n",
    "        optimizer.step()\n",
    "        pg.after_batch(training=True, inputs=data, targets=target, predictions=output, loss=loss)\n",
    "    pg.after_epoch(training=True)\n",
    "\n",
    "def test_epoch(model, device, test_loader, pg:PlotGrid):\n",
    "    model.eval()\n",
    "    test_loss = 0\n",
    "    correct = 0\n",
    "    with torch.no_grad():\n",
    "        for data, target in test_loader:\n",
    "            data, target = data.to(device), target.to(device)\n",
    "            output = model(data)\n",
    "            loss = F.nll_loss(output, target)\n",
    "            test_loss += F.nll_loss(output, target, reduction='sum').item()  # sum up batch loss\n",
    "            pred = output.argmax(dim=1, keepdim=True)  # get the index of the max log-probability\n",
    "            correct += pred.eq(target.view_as(pred)).sum().item()\n",
    "            pg.after_batch(training=False, inputs=data, targets=target, predictions=output, loss=loss)\n",
    "    pg.after_epoch(training=False)\n",
    "\n",
    "def fit(n_epochs, model, device, train_loader, test_loader, optimizer, scheduler, pg:PlotGrid):\n",
    "    for _ in range(n_epochs):\n",
    "        train_epoch(model, device, train_loader, optimizer, pg)\n",
    "        test_epoch(model, device, test_loader, pg)\n",
    "        scheduler.step()\n",
    "    pg.after_fit()"
   ]
  },
  {
   "cell_type": "markdown",
   "metadata": {},
   "source": [
    "## Run it all"
   ]
  },
  {
   "cell_type": "code",
   "execution_count": 12,
   "metadata": {},
   "outputs": [],
   "source": [
    "reload_imports()"
   ]
  },
  {
   "cell_type": "code",
   "execution_count": null,
   "metadata": {},
   "outputs": [
    {
     "data": {
      "application/vnd.jupyter.widget-view+json": {
       "model_id": "f73fa57e8aae48438e3f4264de1ce29f",
       "version_major": 2,
       "version_minor": 0
      },
      "text/plain": [
       "FigureWidget({\n",
       "    'data': [{'mode': 'lines+markers',\n",
       "              'name': 'Training loss',\n",
       "              'type': 'scatter',\n",
       "              'uid': '9cb66070-ee92-4df4-bc31-afbd154f4b05',\n",
       "              'x': [],\n",
       "              'xaxis': 'x',\n",
       "              'y': [],\n",
       "              'yaxis': 'y'},\n",
       "             {'mode': 'lines+markers',\n",
       "              'name': 'Validation loss',\n",
       "              'type': 'scatter',\n",
       "              'uid': 'bebefacb-ea25-4a1d-ac1c-b571f82cfaac',\n",
       "              'x': [],\n",
       "              'xaxis': 'x',\n",
       "              'y': [],\n",
       "              'yaxis': 'y'},\n",
       "             {'hoverinfo': 'skip',\n",
       "              'marker': {'color': 'rgba(0,0,0,0.2)', 'line': {'color': 'black', 'width': 2}},\n",
       "              'mode': 'markers',\n",
       "              'showlegend': False,\n",
       "              'type': 'scatter',\n",
       "              'uid': '9cb5de49-8713-45f6-af2c-3186ed1276ef',\n",
       "              'x': [],\n",
       "              'xaxis': 'x',\n",
       "              'y': [],\n",
       "              'yaxis': 'y'},\n",
       "             {'mode': 'markers',\n",
       "              'showlegend': False,\n",
       "              'type': 'scatter',\n",
       "              'uid': '2daf3ef6-091b-48c7-b98c-0414ca38bf08',\n",
       "              'x': [],\n",
       "              'xaxis': 'x2',\n",
       "              'y': [],\n",
       "              'yaxis': 'y2'},\n",
       "             {'hoverinfo': 'skip',\n",
       "              'marker': {'color': 'rgba(0,0,0,0.2)', 'line': {'color': 'black', 'width': 2}},\n",
       "              'mode': 'markers',\n",
       "              'showlegend': False,\n",
       "              'type': 'scatter',\n",
       "              'uid': '0415ed10-23b4-4a5a-88a3-dc0f36bf9720',\n",
       "              'x': [],\n",
       "              'xaxis': 'x2',\n",
       "              'y': [],\n",
       "              'yaxis': 'y2'},\n",
       "             {'mode': 'lines+markers',\n",
       "              'name': 'Accuracy',\n",
       "              'type': 'scatter',\n",
       "              'uid': 'e96d3724-8775-4f8f-b48b-3a518ed04c65',\n",
       "              'x': [],\n",
       "              'xaxis': 'x3',\n",
       "              'y': [],\n",
       "              'yaxis': 'y3'},\n",
       "             {'hoverinfo': 'skip',\n",
       "              'marker': {'color': 'rgba(0,0,0,0.2)', 'line': {'color': 'black', 'width': 2}},\n",
       "              'mode': 'markers',\n",
       "              'showlegend': False,\n",
       "              'type': 'scatter',\n",
       "              'uid': '19d3dd5e-6a93-4888-8546-9be61ee1f9f7',\n",
       "              'x': [],\n",
       "              'xaxis': 'x3',\n",
       "              'y': [],\n",
       "              'yaxis': 'y3'}],\n",
       "    'layout': {'annotations': [{'font': {'size': 16},\n",
       "                                'showarrow': False,\n",
       "                                'text': 'Training curve',\n",
       "                                'x': 0.225,\n",
       "                                'xanchor': 'center',\n",
       "                                'xref': 'paper',\n",
       "                                'y': 1.0,\n",
       "                                'yanchor': 'bottom',\n",
       "                                'yref': 'paper'},\n",
       "                               {'font': {'size': 16},\n",
       "                                'showarrow': False,\n",
       "                                'text': 'All-sample validation loss',\n",
       "                                'x': 0.775,\n",
       "                                'xanchor': 'center',\n",
       "                                'xref': 'paper',\n",
       "                                'y': 1.0,\n",
       "                                'yanchor': 'bottom',\n",
       "                                'yref': 'paper'},\n",
       "                               {'font': {'size': 16},\n",
       "                                'showarrow': False,\n",
       "                                'text': 'Accuracy',\n",
       "                                'x': 0.225,\n",
       "                                'xanchor': 'center',\n",
       "                                'xref': 'paper',\n",
       "                                'y': 0.375,\n",
       "                                'yanchor': 'bottom',\n",
       "                                'yref': 'paper'}],\n",
       "               'height': 500,\n",
       "               'template': '...',\n",
       "               'xaxis': {'anchor': 'y', 'domain': [0.0, 0.45], 'title': {'text': 'Epoch'}},\n",
       "               'xaxis2': {'anchor': 'y2', 'domain': [0.55, 1.0], 'title': {'text': 'Sample'}},\n",
       "               'xaxis3': {'anchor': 'y3', 'domain': [0.0, 0.45], 'title': {'text': 'Epoch'}},\n",
       "               'yaxis': {'anchor': 'x', 'domain': [0.625, 1.0], 'title': {'text': 'Loss'}},\n",
       "               'yaxis2': {'anchor': 'x2', 'domain': [0.625, 1.0], 'title': {'text': 'Validation loss'}},\n",
       "               'yaxis3': {'anchor': 'x3', 'domain': [0.0, 0.375], 'title': {'text': 'Accuracy'}}}\n",
       "})"
      ]
     },
     "metadata": {},
     "output_type": "display_data"
    }
   ],
   "source": [
    "device = 'cuda'\n",
    "model = SmallNet().to(device)\n",
    "optimizer = optim.Adadelta(model.parameters(), lr=1.0)\n",
    "scheduler = StepLR(optimizer, step_size=1, gamma=0.7)\n",
    "\n",
    "# Sub-plots\n",
    "batch_loss_fn = lambda preds,targs: F.nll_loss(preds,targs,reduction='none')\n",
    "sps = [TrainingCurveSP(), ValidLossSP(batch_loss_fn), MetricSP(\"Accuracy\", MulticlassAccuracy()), ImageSP(dataset2)]\n",
    "pg = PlotGrid(num_grid_cols=2, subplots=sps)\n",
    "pg.show()"
   ]
  },
  {
   "cell_type": "code",
   "execution_count": 16,
   "metadata": {},
   "outputs": [],
   "source": [
    "n_epochs = 5\n",
    "fit(n_epochs, model, device, train_loader, test_loader, optimizer, scheduler, pg)"
   ]
  },
  {
   "cell_type": "code",
   "execution_count": 15,
   "metadata": {},
   "outputs": [
    {
     "data": {
      "text/plain": [
       "torch.Size([1, 28, 28])"
      ]
     },
     "execution_count": 15,
     "metadata": {},
     "output_type": "execute_result"
    }
   ],
   "source": [
    "dataset1[14][0].shape"
   ]
  }
 ],
 "metadata": {
  "kernelspec": {
   "display_name": ".venv",
   "language": "python",
   "name": "python3"
  },
  "language_info": {
   "codemirror_mode": {
    "name": "ipython",
    "version": 3
   },
   "file_extension": ".py",
   "mimetype": "text/x-python",
   "name": "python",
   "nbconvert_exporter": "python",
   "pygments_lexer": "ipython3",
   "version": "3.10.12"
  }
 },
 "nbformat": 4,
 "nbformat_minor": 2
}
